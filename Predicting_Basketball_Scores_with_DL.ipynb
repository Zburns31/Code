{
  "nbformat": 4,
  "nbformat_minor": 0,
  "metadata": {
    "colab": {
      "name": "Predicting Basketball Scores with DL.ipynb",
      "provenance": [],
      "include_colab_link": true
    },
    "kernelspec": {
      "name": "python3",
      "display_name": "Python 3"
    }
  },
  "cells": [
    {
      "cell_type": "markdown",
      "metadata": {
        "id": "view-in-github",
        "colab_type": "text"
      },
      "source": [
        "<a href=\"https://colab.research.google.com/github/Zburns31/Code/blob/master/Predicting_Basketball_Scores_with_DL.ipynb\" target=\"_parent\"><img src=\"https://colab.research.google.com/assets/colab-badge.svg\" alt=\"Open In Colab\"/></a>"
      ]
    },
    {
      "cell_type": "markdown",
      "metadata": {
        "id": "H8Ab2A8MnoC4",
        "colab_type": "text"
      },
      "source": [
        "# Collecting and cleaning data"
      ]
    },
    {
      "cell_type": "code",
      "metadata": {
        "id": "xB2vEUwAwfDm",
        "colab_type": "code",
        "colab": {}
      },
      "source": [
        "import pandas as pd\n",
        "import numpy as np"
      ],
      "execution_count": 1,
      "outputs": []
    },
    {
      "cell_type": "markdown",
      "metadata": {
        "id": "aPMoFJ4lvw5v",
        "colab_type": "text"
      },
      "source": [
        "## Load the Teams.csv data set into a DataFrame  \n",
        "\n",
        "Neither of the csv files have a header row so I manually add them here. I could just use the index but I like the more verbose feel of the actual names."
      ]
    },
    {
      "cell_type": "code",
      "metadata": {
        "id": "Q3RebLbNwjdn",
        "colab_type": "code",
        "colab": {
          "base_uri": "https://localhost:8080/",
          "height": 206
        },
        "outputId": "fa2e8424-1069-4b43-ddd2-923ee6308ee1"
      },
      "source": [
        "team_columns = ['Conference','Team']\n",
        "\n",
        "teams_csv = 'https://liveproject-resources.s3.amazonaws.com/other/deeplearningbasketballscores/Teams.csv'\n",
        "teams = pd.read_csv(teams_csv, header=None, names=team_columns)\n",
        "teams.head()"
      ],
      "execution_count": 2,
      "outputs": [
        {
          "output_type": "execute_result",
          "data": {
            "text/html": [
              "<div>\n",
              "<style scoped>\n",
              "    .dataframe tbody tr th:only-of-type {\n",
              "        vertical-align: middle;\n",
              "    }\n",
              "\n",
              "    .dataframe tbody tr th {\n",
              "        vertical-align: top;\n",
              "    }\n",
              "\n",
              "    .dataframe thead th {\n",
              "        text-align: right;\n",
              "    }\n",
              "</style>\n",
              "<table border=\"1\" class=\"dataframe\">\n",
              "  <thead>\n",
              "    <tr style=\"text-align: right;\">\n",
              "      <th></th>\n",
              "      <th>Conference</th>\n",
              "      <th>Team</th>\n",
              "    </tr>\n",
              "  </thead>\n",
              "  <tbody>\n",
              "    <tr>\n",
              "      <th>0</th>\n",
              "      <td>America East</td>\n",
              "      <td>Vermont</td>\n",
              "    </tr>\n",
              "    <tr>\n",
              "      <th>1</th>\n",
              "      <td>America East</td>\n",
              "      <td>Stony Brook</td>\n",
              "    </tr>\n",
              "    <tr>\n",
              "      <th>2</th>\n",
              "      <td>America East</td>\n",
              "      <td>UMBC</td>\n",
              "    </tr>\n",
              "    <tr>\n",
              "      <th>3</th>\n",
              "      <td>America East</td>\n",
              "      <td>Hartford</td>\n",
              "    </tr>\n",
              "    <tr>\n",
              "      <th>4</th>\n",
              "      <td>America East</td>\n",
              "      <td>Albany</td>\n",
              "    </tr>\n",
              "  </tbody>\n",
              "</table>\n",
              "</div>"
            ],
            "text/plain": [
              "     Conference         Team\n",
              "0  America East      Vermont\n",
              "1  America East  Stony Brook\n",
              "2  America East         UMBC\n",
              "3  America East     Hartford\n",
              "4  America East       Albany"
            ]
          },
          "metadata": {
            "tags": []
          },
          "execution_count": 2
        }
      ]
    },
    {
      "cell_type": "markdown",
      "metadata": {
        "id": "FHNARXgWvIkh",
        "colab_type": "text"
      },
      "source": [
        "## Load the Games.csv data set into a DataFrame"
      ]
    },
    {
      "cell_type": "code",
      "metadata": {
        "id": "d7Yt0WIixAph",
        "colab_type": "code",
        "colab": {
          "base_uri": "https://localhost:8080/",
          "height": 206
        },
        "outputId": "9befd579-c0ae-4061-d0c3-24bed76fc1d1"
      },
      "source": [
        "column_names = ['Date','HomeTeam','HomeScore','AwayTeam','AwayScore']\n",
        "\n",
        "games_csv = 'https://liveproject-resources.s3.amazonaws.com/other/deeplearningbasketballscores/Games.csv'\n",
        "games = pd.read_csv(games_csv, header=None, names=column_names)\n",
        "games.head()"
      ],
      "execution_count": 3,
      "outputs": [
        {
          "output_type": "execute_result",
          "data": {
            "text/html": [
              "<div>\n",
              "<style scoped>\n",
              "    .dataframe tbody tr th:only-of-type {\n",
              "        vertical-align: middle;\n",
              "    }\n",
              "\n",
              "    .dataframe tbody tr th {\n",
              "        vertical-align: top;\n",
              "    }\n",
              "\n",
              "    .dataframe thead th {\n",
              "        text-align: right;\n",
              "    }\n",
              "</style>\n",
              "<table border=\"1\" class=\"dataframe\">\n",
              "  <thead>\n",
              "    <tr style=\"text-align: right;\">\n",
              "      <th></th>\n",
              "      <th>Date</th>\n",
              "      <th>HomeTeam</th>\n",
              "      <th>HomeScore</th>\n",
              "      <th>AwayTeam</th>\n",
              "      <th>AwayScore</th>\n",
              "    </tr>\n",
              "  </thead>\n",
              "  <tbody>\n",
              "    <tr>\n",
              "      <th>0</th>\n",
              "      <td>2015-11-13</td>\n",
              "      <td>Hawaii</td>\n",
              "      <td>87</td>\n",
              "      <td>Montana St.</td>\n",
              "      <td>76</td>\n",
              "    </tr>\n",
              "    <tr>\n",
              "      <th>1</th>\n",
              "      <td>2015-11-13</td>\n",
              "      <td>Eastern Mich.</td>\n",
              "      <td>70</td>\n",
              "      <td>Vermont</td>\n",
              "      <td>50</td>\n",
              "    </tr>\n",
              "    <tr>\n",
              "      <th>2</th>\n",
              "      <td>2015-11-13</td>\n",
              "      <td>Columbia</td>\n",
              "      <td>107</td>\n",
              "      <td>Kean</td>\n",
              "      <td>62</td>\n",
              "    </tr>\n",
              "    <tr>\n",
              "      <th>3</th>\n",
              "      <td>2015-11-13</td>\n",
              "      <td>La.-Monroe</td>\n",
              "      <td>88</td>\n",
              "      <td>McMurry</td>\n",
              "      <td>43</td>\n",
              "    </tr>\n",
              "    <tr>\n",
              "      <th>4</th>\n",
              "      <td>2015-11-13</td>\n",
              "      <td>Yale</td>\n",
              "      <td>70</td>\n",
              "      <td>Fairfield</td>\n",
              "      <td>57</td>\n",
              "    </tr>\n",
              "  </tbody>\n",
              "</table>\n",
              "</div>"
            ],
            "text/plain": [
              "         Date       HomeTeam  HomeScore     AwayTeam  AwayScore\n",
              "0  2015-11-13         Hawaii         87  Montana St.         76\n",
              "1  2015-11-13  Eastern Mich.         70      Vermont         50\n",
              "2  2015-11-13       Columbia        107         Kean         62\n",
              "3  2015-11-13     La.-Monroe         88      McMurry         43\n",
              "4  2015-11-13           Yale         70    Fairfield         57"
            ]
          },
          "metadata": {
            "tags": []
          },
          "execution_count": 3
        }
      ]
    },
    {
      "cell_type": "markdown",
      "metadata": {
        "id": "cWISs7GZvVXA",
        "colab_type": "text"
      },
      "source": [
        "### Remove any games without a score  \n",
        "\n",
        "There are a couple of games that don't have a score because they were cancelled (I actually think the floors were wet from humidity). I need to remove those because it is simply bad data and will skew the averages. There are outliers like this is many datasets and need to be handled."
      ]
    },
    {
      "cell_type": "code",
      "metadata": {
        "id": "kHBbIpdZxFa9",
        "colab_type": "code",
        "colab": {
          "base_uri": "https://localhost:8080/",
          "height": 49
        },
        "outputId": "3bc3935f-a37f-4b7f-bdbe-53e0236a6ea1"
      },
      "source": [
        "games = games.drop( games[(games['HomeScore'] == 0)].index)\n",
        "games = games.drop( games[(games['AwayScore'] == 0)].index)\n",
        "\n",
        "games.loc[(games['HomeScore'] == 0) | (games['AwayScore'] == 0)]"
      ],
      "execution_count": 4,
      "outputs": [
        {
          "output_type": "execute_result",
          "data": {
            "text/html": [
              "<div>\n",
              "<style scoped>\n",
              "    .dataframe tbody tr th:only-of-type {\n",
              "        vertical-align: middle;\n",
              "    }\n",
              "\n",
              "    .dataframe tbody tr th {\n",
              "        vertical-align: top;\n",
              "    }\n",
              "\n",
              "    .dataframe thead th {\n",
              "        text-align: right;\n",
              "    }\n",
              "</style>\n",
              "<table border=\"1\" class=\"dataframe\">\n",
              "  <thead>\n",
              "    <tr style=\"text-align: right;\">\n",
              "      <th></th>\n",
              "      <th>Date</th>\n",
              "      <th>HomeTeam</th>\n",
              "      <th>HomeScore</th>\n",
              "      <th>AwayTeam</th>\n",
              "      <th>AwayScore</th>\n",
              "    </tr>\n",
              "  </thead>\n",
              "  <tbody>\n",
              "  </tbody>\n",
              "</table>\n",
              "</div>"
            ],
            "text/plain": [
              "Empty DataFrame\n",
              "Columns: [Date, HomeTeam, HomeScore, AwayTeam, AwayScore]\n",
              "Index: []"
            ]
          },
          "metadata": {
            "tags": []
          },
          "execution_count": 4
        }
      ]
    },
    {
      "cell_type": "markdown",
      "metadata": {
        "id": "7M8MFXrcvXi3",
        "colab_type": "text"
      },
      "source": [
        "### Break the Games DataFrame into seasons  \n",
        "\n",
        "Since we are using scoring average we need to break the dataset into seasons. It wouldn't make sense combining seasons because the teams are different. We only want to use the current teams average since that team is the one winning or losing."
      ]
    },
    {
      "cell_type": "code",
      "metadata": {
        "id": "Xmd0hAxmxPBF",
        "colab_type": "code",
        "colab": {
          "base_uri": "https://localhost:8080/",
          "height": 86
        },
        "outputId": "be11fa81-2c70-4029-82ff-d04381084bab"
      },
      "source": [
        "s2015 = games[(games['Date'] > '2015-11-01') & (games['Date'] < '2016-04-15')].copy()\n",
        "s2016 = games[(games['Date'] > '2016-11-01') & (games['Date'] < '2017-04-15')].copy()\n",
        "s2017 = games[(games['Date'] > '2017-11-01') & (games['Date'] < '2018-04-15')].copy()\n",
        "s2018 = games[(games['Date'] > '2018-11-01') & (games['Date'] < '2019-04-15')].copy()\n",
        "\n",
        "print('2015 (%s): %s - %s' % (s2015.shape[0],np.min(s2015.Date),np.max(s2015.Date)))\n",
        "print('2016 (%s): %s - %s' % (s2016.shape[0],np.min(s2016.Date),np.max(s2016.Date)))\n",
        "print('2017 (%s): %s - %s' % (s2017.shape[0],np.min(s2017.Date),np.max(s2017.Date)))\n",
        "print('2018 (%s): %s - %s' % (s2018.shape[0],np.min(s2018.Date),np.max(s2018.Date)))"
      ],
      "execution_count": 5,
      "outputs": [
        {
          "output_type": "stream",
          "text": [
            "2015 (5881): 2015-11-13 - 2016-04-01\n",
            "2016 (5904): 2016-11-11 - 2017-03-31\n",
            "2017 (5612): 2017-11-10 - 2018-03-31\n",
            "2018 (5894): 2018-11-06 - 2019-03-22\n"
          ],
          "name": "stdout"
        }
      ]
    },
    {
      "cell_type": "markdown",
      "metadata": {
        "id": "nBid6sY8v1j1",
        "colab_type": "text"
      },
      "source": [
        "### Clean the team names if they don't match the Teams entry  \n",
        "\n",
        "This was one of the most frustrating parts of the project. It also points out the reason most quality data sources have a lookup for something like this instead of a text entry for the teams."
      ]
    },
    {
      "cell_type": "code",
      "metadata": {
        "id": "Zugc8oS7yiOb",
        "colab_type": "code",
        "colab": {}
      },
      "source": [
        "def RenameTeams(df_games, column_name):\n",
        "  df_games.loc[ df_games[column_name] == 'A&amp;M-Corpus Chris'\t\t, column_name ] = \t\t'Texas A&M-CC'\n",
        "  df_games.loc[ df_games[column_name] == 'A&M-Corpus Chris'\t\t, column_name ] = \t\t'Texas A&M-CC'\t\n",
        "  df_games.loc[ df_games[column_name] == 'Alabama St.'\t\t, column_name ] = \t\t'Alabama State'\t\t\n",
        "  df_games.loc[ df_games[column_name] == 'Albany (NY)'\t\t, column_name ] = \t\t'Albany'\t\t\t\t\n",
        "  df_games.loc[ df_games[column_name] == 'Alcorn St.'\t\t\t, column_name ] = \t\t'Alcorn State'\t\t\n",
        "  df_games.loc[ df_games[column_name] == 'American'\t\t\t, column_name ] = \t\t'American University'\n",
        "  df_games.loc[ df_games[column_name] == 'Appalachian St.'\t\t\t, column_name ] = \t\t'Appalachian State'\t\n",
        "  df_games.loc[ df_games[column_name] == 'Arizona St.'\t\t, column_name ] = \t\t'Arizona State'\t\t\t\t\t\t\n",
        "  df_games.loc[ df_games[column_name] == 'Army West Point'\t\t, column_name ] = \t\t'Army'\t\t\t\t\t\n",
        "  df_games.loc[ df_games[column_name] == 'Ark.-Pine Bluff'\t\t, column_name ] = \t\t'Arkansas-Pine Bluff'\n",
        "  df_games.loc[ df_games[column_name] == 'UALR'\t\t\t\t, column_name ] = \t\t'Arkansas-Little Rock'\t\n",
        "  df_games.loc[ df_games[column_name] == 'Little Rock'\t\t\t\t, column_name ] = \t\t'Arkansas-Little Rock'\t\t\t\n",
        "  df_games.loc[ df_games[column_name] == 'Arkansas St.'\t\t, column_name ] = \t\t'Arkansas State'\t\t\n",
        "  df_games.loc[ df_games[column_name] == 'Ball St.'\t\t\t, column_name ] = \t\t'Ball State'\t\t\t\n",
        "  df_games.loc[ df_games[column_name] == 'Boise St.'\t\t\t, column_name ] = \t\t'Boise State'\t\t\n",
        "  df_games.loc[ df_games[column_name] == 'Boston U.'\t\t\t, column_name ] = \t\t'Boston University'\t\t\t\n",
        "  df_games.loc[ df_games[column_name] == 'Cal Baptist'\t, column_name ] = \t\t'California Baptist'\t\t\t\n",
        "  df_games.loc[ df_games[column_name] == 'Charleston So.'\t, column_name ] = \t\t'Charleston Southern'\t\t\t\n",
        "  df_games.loc[ df_games[column_name] == 'Cent. Conn. St.'\t, column_name ] = \t\t'Central Connecticut State'\t\n",
        "  df_games.loc[ df_games[column_name] == 'Central Conn. St.'\t, column_name ] = \t\t'Central Connecticut State'\t\n",
        "  df_games.loc[ df_games[column_name] == 'Central Mich.'\t, column_name ] = \t\t'Central Michigan'\t\n",
        "  df_games.loc[ df_games[column_name] == 'Col. of Charleston'\t, column_name ] = \t\t'Charleston'\t\t\t\n",
        "  df_games.loc[ df_games[column_name] == 'Chicago St.'\t\t, column_name ] = \t\t'Chicago State'\t\t\n",
        "  df_games.loc[ df_games[column_name] == 'Cleveland St.'\t\t, column_name ] = \t\t'Cleveland State'\t\t\n",
        "  df_games.loc[ df_games[column_name] == 'Coastal Caro.'\t\t, column_name ] = \t\t'Coastal Carolina'\t\t\t\t\n",
        "  df_games.loc[ df_games[column_name] == 'Colorado St.'\t\t, column_name ] = \t\t'Colorado State'\t\n",
        "  df_games.loc[ df_games[column_name] == 'Coppin St.'\t\t\t, column_name ] = \t\t'Coppin State'\t\t\t\n",
        "  df_games.loc[ df_games[column_name] == 'Bakersfield'\t\t, column_name ] = \t\t'Cal State Bakersfield'\t\n",
        "  df_games.loc[ df_games[column_name] == 'CSU Bakersfield'\t\t, column_name ] = \t\t'Cal State Bakersfield'\t\t\n",
        "  df_games.loc[ df_games[column_name] == 'Bryant'\t\t, column_name ] = \t\t'Bryant University'\t\n",
        "  df_games.loc[ df_games[column_name] == 'Cal St. Fullerton'\t, column_name ] = \t\t'Cal State Fullerton'\n",
        "  df_games.loc[ df_games[column_name] == 'CSU Fullerton'\t, column_name ] = \t\t'Cal State Fullerton'\t\t\n",
        "  df_games.loc[ df_games[column_name] == 'CSUN'\t, column_name ] = \t\t'Cal State Northridge'\t\n",
        "  df_games.loc[ df_games[column_name] == 'Cal St. Northridge'\t, column_name ] = \t\t'Cal State Northridge'\t\t\t\t\t\t\n",
        "  df_games.loc[ df_games[column_name] == 'Central Ark.'\t\t, column_name ] = \t\t'Central Arkansas'\t\t\t\t\t\t\n",
        "  df_games.loc[ df_games[column_name] == 'Delaware St.'\t\t, column_name ] = \t\t'Delaware State'\t\t\n",
        "  df_games.loc[ df_games[column_name] == 'Detroit'\t\t\t, column_name ] = \t\t'Detroit Mercy'\t\t\n",
        "  df_games.loc[ df_games[column_name] == 'East Tenn. St.'\t\t, column_name ] = \t\t'East Tennessee State'\n",
        "  df_games.loc[ df_games[column_name] == 'Eastern Ill.'\t\t, column_name ] = \t\t'Eastern Illinois'\t\t\n",
        "  df_games.loc[ df_games[column_name] == 'Eastern Ky.'\t\t, column_name ] = \t\t'Eastern Kentucky'\t\t\n",
        "  df_games.loc[ df_games[column_name] == 'Eastern Mich.'\t\t, column_name ] = \t\t'Eastern Michigan'\t\n",
        "  df_games.loc[ df_games[column_name] == 'Eastern Wash.'\t\t, column_name ] = \t\t'Eastern Washington'\n",
        "  df_games.loc[ df_games[column_name] == \"Fairleigh D'son\"\t\t, column_name ] = \t\t'Fairleigh Dickinson'\t\t\t\t\n",
        "  df_games.loc[ df_games[column_name] == 'FGCU'\t\t, column_name ] = \t\t'Florida Gulf Coast'\t\t\t\t\t\t\n",
        "  df_games.loc[ df_games[column_name] == 'FIU'\t\t\t\t, column_name ] = \t\t'Florida International'\t\t\t\t\t\n",
        "  df_games.loc[ df_games[column_name] == 'Fla. Atlantic'\t\t, column_name ] = \t\t'Florida Atlantic'\n",
        "  df_games.loc[ df_games[column_name] == 'Florida St.'\t\t, column_name ] = \t\t'Florida State'\t\t\t\n",
        "  df_games.loc[ df_games[column_name] == 'Fresno St.'\t\t\t, column_name ] = \t\t'Fresno State'\t\t\n",
        "  df_games.loc[ df_games[column_name] == 'Fort Wayne'\t\t, column_name ] = \t\t'Purdue Fort Wayne'\t\t\n",
        "  df_games.loc[ df_games[column_name] == 'IPFW'\t\t\t\t, column_name ] = \t\t'Purdue Fort Wayne'\t\t\t\t\n",
        "  df_games.loc[ df_games[column_name] == 'Ga. Southern'\t\t, column_name ] = \t\t'Georgia Southern'\t\t\t\n",
        "  df_games.loc[ df_games[column_name] == 'Georgia St.'\t\t, column_name ] = \t\t'Georgia State'\t\t\t\n",
        "  df_games.loc[ df_games[column_name] == 'Geo. Washington'\t\t, column_name ] = \t\t'George Washington'\t\t\t\t\n",
        "  df_games.loc[ df_games[column_name] == 'Grambling'\t\t, column_name ] = \t\t'Grambling State'\t\t\n",
        "  df_games.loc[ df_games[column_name] == 'Humboldt St.'\t\t, column_name ] = \t\t'Humboldt State'\t\t\n",
        "  df_games.loc[ df_games[column_name] == 'Idaho St.'\t\t\t, column_name ] = \t\t'Idaho State'\t\t\t\n",
        "  df_games.loc[ df_games[column_name] == 'Illinois St.'\t\t, column_name ] = \t\t'Illinois State'\t\t\n",
        "  df_games.loc[ df_games[column_name] == 'Iowa St.'\t\t\t, column_name ] = \t\t'Iowa State'\t\t\t\n",
        "  df_games.loc[ df_games[column_name] == 'Indiana St.'\t\t, column_name ] = \t\t'Indiana State'\t\t\n",
        "  df_games.loc[ df_games[column_name] == 'Jackson St.'\t\t, column_name ] = \t\t'Jackson State'\t\t\n",
        "  df_games.loc[ df_games[column_name] == 'Jacksonville St.'\t\t, column_name ] = \t\t'Jacksonville State'\t\t\t\n",
        "  df_games.loc[ df_games[column_name] == 'Kansas St.'\t\t, column_name ] = \t\t'Kansas State'\n",
        "  df_games.loc[ df_games[column_name] == 'Kennesaw St.'\t\t, column_name ] = \t\t'Kennesaw State'\t\t\n",
        "  df_games.loc[ df_games[column_name] == 'Kent St.'\t\t\t, column_name ] = \t\t'Kent State'\t\t\t\n",
        "  df_games.loc[ df_games[column_name] == 'Louisiana'\t\t, column_name ] = \t\t'Louisiana-Lafayette'\n",
        "  df_games.loc[ df_games[column_name] == 'Lamar University'\t\t, column_name ] = \t\t'Lamar'\t\n",
        "  df_games.loc[ df_games[column_name] == 'La.-Monroe'\t\t, column_name ] = \t\t'Louisiana-Monroe'\t\t\n",
        "  df_games.loc[ df_games[column_name] == 'Long Beach St.'\t\t, column_name ] = \t\t'Long Beach State'\t\n",
        "  df_games.loc[ df_games[column_name] == 'Long Island'\t\t, column_name ] = \t\t'LIU Brooklyn'\n",
        "  df_games.loc[ df_games[column_name] == 'LMU'\t, column_name ] = \t\t'Loyola Marymount'\t\t\t\t\t\n",
        "  df_games.loc[ df_games[column_name] == 'Loyola Chicago'\t, column_name ] = \t\t'Loyola (IL)'\t\t\t\n",
        "  df_games.loc[ df_games[column_name] == 'Loyola Maryland'\t, column_name ] = \t\t'Loyola (MD)'\t\t\t\n",
        "  df_games.loc[ df_games[column_name] == 'Loyola (Md.)'\t, column_name ] = \t\t'Loyola (MD)'\t\t\n",
        "  df_games.loc[ df_games[column_name] == 'UMES'\t\t, column_name ] = \t\t'Maryland-Eastern Shore'\n",
        "  df_games.loc[ df_games[column_name] == 'Miami (Fla.)'\t\t, column_name ] = \t\t'Miami (FL)'\n",
        "  df_games.loc[ df_games[column_name] == 'Miami (Ohio)'\t\t, column_name ] = \t\t'Miami (OH)'\n",
        "  df_games.loc[ df_games[column_name] == \"Mt. St. Mary's\"\t\t, column_name ] = \t\t\"Mount St Mary's\"\t\t\t\n",
        "  df_games.loc[ df_games[column_name] == 'Mass.-Lowell'\t\t, column_name ] = \t\t'Massachusetts-Lowell'\t\t\t\t\n",
        "  df_games.loc[ df_games[column_name] == 'McNeese'\t\t, column_name ] = \t\t'McNeese State'\t\t\t\t\t\t\t\t\t\t\n",
        "  df_games.loc[ df_games[column_name] == 'McNeese '\t\t, column_name ] = \t\t'McNeese State'\t\t\t\t\t\t\n",
        "  df_games.loc[ df_games[column_name] == 'McNeese St.'\t\t, column_name ] = \t\t'McNeese State'\t\t\t\n",
        "  df_games.loc[ df_games[column_name] == 'Middle Tenn.'\t\t, column_name ] = \t\t'Middle Tennessee'\t\t\n",
        "  df_games.loc[ df_games[column_name] == 'Mississippi St.'\t\t, column_name ] = \t\t'Mississippi State'\t\n",
        "  df_games.loc[ df_games[column_name] == 'Mississippi Val.'\t\t, column_name ] = \t\t'Mississippi Valley State'\t\t\t\n",
        "  df_games.loc[ df_games[column_name] == 'Mich. St. '\t\t, column_name ] = \t\t'Michigan State'\t\t\n",
        "  df_games.loc[ df_games[column_name] == 'Michigan St.'\t\t, column_name ] = \t\t'Michigan State'\t\t\t\n",
        "  df_games.loc[ df_games[column_name] == 'Mississippi'\t\t\t, column_name ] = \t\t'Ole Miss'\t\t\t\n",
        "  df_games.loc[ df_games[column_name] == 'Missouri St.'\t\t, column_name ] = \t\t'Missouri State'\t\n",
        "  df_games.loc[ df_games[column_name] == 'Montana St.'\t\t, column_name ] = \t\t'Montana State'\t\t\n",
        "  df_games.loc[ df_games[column_name] == 'Morehead St.'\t\t, column_name ] = \t\t'Morehead State'\t\t\n",
        "  df_games.loc[ df_games[column_name] == 'Morgan St.'\t\t\t, column_name ] = \t\t'Morgan State'\t\t\t\n",
        "  df_games.loc[ df_games[column_name] == 'Murray St.'\t\t\t, column_name ] = \t\t'Murray State'\t\t\n",
        "  df_games.loc[ df_games[column_name] == 'N.C. A&T'\t, column_name ] = \t\t'North Carolina A&T'\n",
        "  df_games.loc[ df_games[column_name] == 'N.C. Central'\t, column_name ] = \t\t'North Carolina Central'\n",
        "  df_games.loc[ df_games[column_name] == 'New Mexico St.'\t, column_name ] = \t\t'New Mexico State'\t\t\t\t\n",
        "  df_games.loc[ df_games[column_name] == 'NC State'\t, column_name ] = \t\t'North Carolina State'\n",
        "  df_games.loc[ df_games[column_name] == 'North Carolina St.'\t, column_name ] = \t\t'North Carolina State'\t\n",
        "  df_games.loc[ df_games[column_name] == 'North Dakota St.'\t, column_name ] = \t\t'North Dakota State'\t\t\t\t\n",
        "  df_games.loc[ df_games[column_name] == 'Northern Ariz.'\t, column_name ] = \t\t'Northern Arizona'\t\t\t\t\n",
        "  df_games.loc[ df_games[column_name] == 'Northern Colo.'\t, column_name ] = \t\t'Northern Colorado'\t\t\n",
        "  df_games.loc[ df_games[column_name] == 'Northern Ill.'\t, column_name ] = \t\t'Northern Illinois'\t\t\t\n",
        "  df_games.loc[ df_games[column_name] == \"N'western St.\"\t, column_name ] = \t\t\"Northwestern State\"\t\n",
        "  df_games.loc[ df_games[column_name] == 'Northwestern St.'\t, column_name ] = \t\t\"Northwestern State\"\t\t\t\t\n",
        "  df_games.loc[ df_games[column_name] == 'Nicholls St.'\t\t, column_name ] = \t\t'Nicholls State'\t\t\n",
        "  df_games.loc[ df_games[column_name] == 'Norfolk St.'\t\t, column_name ] = \t\t'Norfolk State'\t\t\n",
        "  df_games.loc[ df_games[column_name] == 'Northern Ky.'\t\t, column_name ] = \t\t'Northern Kentucky'\t\n",
        "  df_games.loc[ df_games[column_name] == 'Ohio St.'\t\t\t, column_name ] = \t\t'Ohio State'\t\t\t\n",
        "  df_games.loc[ df_games[column_name] == 'Ohio St. '\t\t\t, column_name ] = \t\t'Ohio State'\t\t\t\n",
        "  df_games.loc[ df_games[column_name] == 'Oklahoma St.'\t\t, column_name ] = \t\t'Oklahoma State'\t\n",
        "  df_games.loc[ df_games[column_name] == 'Oregon St.'\t\t, column_name ] = \t\t'Oregon State'\t\n",
        "  df_games.loc[ df_games[column_name] == 'Neb. Omaha'\t\t\t, column_name ] = \t\t'Nebraska-Omaha'\t\n",
        "  df_games.loc[ df_games[column_name] == 'Omaha'\t\t\t, column_name ] = \t\t'Nebraska-Omaha'\t\t\t\t\t\n",
        "  df_games.loc[ df_games[column_name] == 'Penn'\t\t\t, column_name ] = \t\t'Pennsylvania'\t\t\t\t\t\t\t\t\n",
        "  df_games.loc[ df_games[column_name] == 'Penn St.'\t\t\t, column_name ] = \t\t'Penn State'\t\t\t\t\n",
        "  df_games.loc[ df_games[column_name] == 'Prairie View'\t\t, column_name ] = \t\t'Prairie View A&M'\t\t\n",
        "  df_games.loc[ df_games[column_name] == 'Portland St.'\t\t, column_name ] = \t\t'Portland State'\t\t\n",
        "  df_games.loc[ df_games[column_name] == 'S.C. Upstate'\t, column_name ] = \t\t'USC Upstate'\t\n",
        "  df_games.loc[ df_games[column_name] == 'S. Carolina St.'\t, column_name ] = \t\t'South Carolina State'\n",
        "  df_games.loc[ df_games[column_name] == 'South Carolina St.'\t, column_name ] = \t\t'South Carolina State'\t\t\t\n",
        "  df_games.loc[ df_games[column_name] == 'Sacramento St.'\t\t, column_name ] = \t\t'Sacramento State'\t\t\t\n",
        "  df_games.loc[ df_games[column_name] == 'Sam Houston St.'\t\t, column_name ] = \t\t'Sam Houston State'\t\t\t\t\n",
        "  df_games.loc[ df_games[column_name] == 'San Diego St.'\t\t, column_name ] = \t\t'San Diego State'\t\t\n",
        "  df_games.loc[ df_games[column_name] == 'San Jose St.'\t\t, column_name ] = \t\t'San Jose State'\t\t\n",
        "  df_games.loc[ df_games[column_name] == 'Savannah St.'\t\t, column_name ] = \t\t'Savannah State'\t\t\n",
        "  df_games.loc[ df_games[column_name] == 'Seattle U'\t\t\t, column_name ] = \t\t'Seattle'\t\t\t\n",
        "  df_games.loc[ df_games[column_name] == 'SFA'\t, column_name ] = \t\t'Stephen F Austin'\n",
        "  df_games.loc[ df_games[column_name] == 'Stephen F. Austin'\t, column_name ] = \t\t'Stephen F Austin'\t\t\t\t\t\n",
        "  df_games.loc[ df_games[column_name] == 'SIU Edwardsville'\t, column_name ] = \t\t'SIU-Edwardsville'\t\t\t\t\t\t\n",
        "  df_games.loc[ df_games[column_name] == 'SIUE'\t, column_name ] = \t\t'SIU-Edwardsville'\t\t\t\t\t\n",
        "  df_games.loc[ df_games[column_name] == 'South Ala.'\t\t\t, column_name ] = \t\t'South Alabama'\t\t\t\n",
        "  df_games.loc[ df_games[column_name] == 'South Dakota St.'\t\t\t, column_name ] = \t\t'South Dakota State'\t\n",
        "  df_games.loc[ df_games[column_name] == 'South Fla.'\t\t\t, column_name ] = \t\t'South Florida'\t\t\n",
        "  df_games.loc[ df_games[column_name] == 'Southern Ill.'\t\t, column_name ] = \t\t'Southern Illinois'\t\n",
        "  df_games.loc[ df_games[column_name] == 'Southeast Mo. St.'\t\t, column_name ] = \t\t'Southeast Missouri State'\n",
        "  df_games.loc[ df_games[column_name] == 'Southeastern La.'\t\t, column_name ] = \t\t'Southeastern Louisiana'\t\t\n",
        "  df_games.loc[ df_games[column_name] == 'Southern Miss.'\t\t, column_name ] = \t\t'Southern Miss'\t\t\n",
        "  df_games.loc[ df_games[column_name] == 'Southern U.'\t\t, column_name ] = \t\t'Southern University'\t\n",
        "  df_games.loc[ df_games[column_name] == 'Southern Univ.'\t\t, column_name ] = \t\t'Southern University'\t\n",
        "  df_games.loc[ df_games[column_name] == \"St. Bonaventure\"\t, column_name ] = \t\t\"St Bonaventure\"\t\t\t\n",
        "  df_games.loc[ df_games[column_name] == \"St. Francis (B'klyn)\"\t, column_name ] = \t\t\"St Francis (BKN)\"\n",
        "  df_games.loc[ df_games[column_name] == \"St. Francis (B&#039;klyn)\"\t, column_name ] = \t\t\"St Francis (BKN)\"\t\t\n",
        "  df_games.loc[ df_games[column_name] == 'St. Francis (NY)'\t, column_name ] = \t\t\"St Francis (BKN)\"\n",
        "  df_games.loc[ df_games[column_name] == 'St. Francis (PA)'\t, column_name ] = \t\t\"St Francis (PA)\"\t\n",
        "  df_games.loc[ df_games[column_name] == 'St. Francis (Pa.)'\t, column_name ] = \t\t\"St Francis (PA)\"\t\n",
        "  df_games.loc[ df_games[column_name] == \"Saint Joseph's\"\t, column_name ] = \t\t\"Saint Joseph's (PA)\"\n",
        "  df_games.loc[ df_games[column_name] == \"St. Mary's (CA)\"\t, column_name ] = \t\t\"Saint Mary's\"\t\n",
        "  df_games.loc[ df_games[column_name] == \"St. Mary's (Cal.)\"\t, column_name ] = \t\t\"Saint Mary's\"\t\n",
        "  df_games.loc[ df_games[column_name] == \"St. Peter's\"\t, column_name ] = \t\t\"St Peter's\"\t\n",
        "  df_games.loc[ df_games[column_name] == \"St. John's (NY)\"\t, column_name ] = \t\t\"St John's\"\t\t\n",
        "  df_games.loc[ df_games[column_name] == \"St. John&#039;s (NY)\"\t, column_name ] = \t\t\"St John's\"\t\t\n",
        "  df_games.loc[ df_games[column_name] == \"St. John's \"\t, column_name ] = \t\t\"St John's\"\t\t\t\t\n",
        "  df_games.loc[ df_games[column_name] == 'Tennessee St.'\t\t, column_name ] = \t\t'Tennessee State'\t\t\n",
        "  df_games.loc[ df_games[column_name] == 'Texas A&M-C.C.'\t\t\t, column_name ] = \t\t'Texas A&M-CC'\t\t\t\n",
        "  df_games.loc[ df_games[column_name] == 'Texas St.'\t\t\t, column_name ] = \t\t'Texas State'\t\t\t\n",
        "  df_games.loc[ df_games[column_name] == 'UC Santa Barbara'\t, column_name ] = \t\t'UC Santa Barb.'\t\t\n",
        "  df_games.loc[ df_games[column_name] == 'Ill.-Chicago'\t\t, column_name ] = \t\t'UIC'\t\t\t\t\t\n",
        "  df_games.loc[ df_games[column_name] == 'Md.-East. Shore'\t, column_name ] = \t\t'Maryland-Eastern Shore'\t\t\t\t\t\n",
        "  df_games.loc[ df_games[column_name] == 'UNCG'\t\t, column_name ] = \t\t'UNC Greensboro'\t\t\t\t\t\n",
        "  df_games.loc[ df_games[column_name] == 'UNCW'\t\t, column_name ] = \t\t'North Carolina-Wilmington'\t\t\t\t\t\n",
        "  df_games.loc[ df_games[column_name] == 'UNC Wilmington'\t\t, column_name ] = \t\t'North Carolina-Wilmington'\t\t\t\t\t\n",
        "  df_games.loc[ df_games[column_name] == 'Southern California', column_name ] = \t\t'USC'\t\t\t\t\t\n",
        "  df_games.loc[ df_games[column_name] == 'UConn'\t\t\t, column_name ] = \t\t'Connecticut'\t\t\t\t\t\n",
        "  df_games.loc[ df_games[column_name] == 'UC Santa Barb.'\t\t\t, column_name ] = \t\t'UC Santa Barbara'\t\t\t\t\t\t\n",
        "  df_games.loc[ df_games[column_name] == 'UIC'\t\t\t, column_name ] = \t\t'Illinois-Chicago'\t\t\t\t\t\t\n",
        "  df_games.loc[ df_games[column_name] == 'UNI'\t\t\t, column_name ] = \t\t'Northern Iowa'\t\t\t\t\t\t\t\n",
        "  df_games.loc[ df_games[column_name] == 'UT Arlington'\t\t\t, column_name ] = \t\t'Texas-Arlington'\t\t\n",
        "  df_games.loc[ df_games[column_name] == 'UT Arlington '\t\t\t, column_name ] = \t\t'Texas-Arlington'\t\t\n",
        "  df_games.loc[ df_games[column_name] == 'UT Martin'\t\t\t, column_name ] = \t\t'Tennessee-Martin'\t\t\n",
        "  df_games.loc[ df_games[column_name] == 'UTRGV'\t\t\t, column_name ] = \t\t'Texas Rio Grande Valley'\t\t\n",
        "  df_games.loc[ df_games[column_name] == 'Utah St.'\t\t\t, column_name ] = \t\t'Utah State'\t\t\t\t\n",
        "  df_games.loc[ df_games[column_name] == 'VCU'\t\t\t, column_name ] = \t\t'Virginia Commonwealth'\t\t\n",
        "  df_games.loc[ df_games[column_name] == 'VMI'\t\t\t, column_name ] = \t\t'Virginia Military'\t\t\n",
        "  df_games.loc[ df_games[column_name] == 'Washington St.'\t\t\t, column_name ] = \t\t'Washington State'\t\t\t\n",
        "  df_games.loc[ df_games[column_name] == 'Weber St.'\t\t\t, column_name ] = \t\t'Weber State'\t\t\t\n",
        "  df_games.loc[ df_games[column_name] == 'Western Caro.'\t\t, column_name ] = \t\t'Western Carolina'\n",
        "  df_games.loc[ df_games[column_name] == 'Western Ill.'\t\t, column_name ] = \t\t'Western Illinois'\t\n",
        "  df_games.loc[ df_games[column_name] == 'Western Ky.'\t\t, column_name ] = \t\t'Western Kentucky'\t\n",
        "  df_games.loc[ df_games[column_name] == 'Western Mich.'\t\t, column_name ] = \t\t'Western Michigan'\t\t\n",
        "  df_games.loc[ df_games[column_name] == 'Wichita St.'\t\t, column_name ] = \t\t'Wichita State'\t\t\n",
        "  df_games.loc[ df_games[column_name] == 'Wright St.'\t\t\t, column_name ] = \t\t'Wright State'\t\n",
        "  df_games.loc[ df_games[column_name] == 'Youngstown St.'\t\t\t, column_name ] = \t\t'Youngstown State'"
      ],
      "execution_count": 6,
      "outputs": []
    },
    {
      "cell_type": "code",
      "metadata": {
        "id": "JfXK5ExYymue",
        "colab_type": "code",
        "colab": {}
      },
      "source": [
        "RenameTeams(s2015,'HomeTeam')\n",
        "RenameTeams(s2015,'AwayTeam')\n",
        "RenameTeams(s2016,'HomeTeam')\n",
        "RenameTeams(s2016,'AwayTeam')\n",
        "RenameTeams(s2017,'HomeTeam')\n",
        "RenameTeams(s2017,'AwayTeam')\n",
        "RenameTeams(s2018,'HomeTeam')\n",
        "RenameTeams(s2018,'AwayTeam')"
      ],
      "execution_count": 7,
      "outputs": []
    },
    {
      "cell_type": "markdown",
      "metadata": {
        "id": "y2KTtTyfvd98",
        "colab_type": "text"
      },
      "source": [
        "# Feature Engineering\n",
        "\n",
        "Let's add some basic team statistics to our dataset to augment the current information:\n",
        "\n",
        "- Calculate the team's scoring average at home\n",
        "- Calculate the teams scoring average over their last 5,10, N games for home and away\n",
        "- Calculate the team's scoring average away\n",
        "- Calculate the team's home defensive average\n",
        "- Calculate the team's away defensive average  \n",
        "\n",
        "\n",
        "`expanding().mean()` [Documentation](https://pandas.pydata.org/pandas-docs/stable/reference/api/pandas.DataFrame.expanding.html) gives us a rolling average"
      ]
    },
    {
      "cell_type": "code",
      "metadata": {
        "id": "IN4zAENcx8eA",
        "colab_type": "code",
        "colab": {}
      },
      "source": [
        "def CalculateScores(df):\n",
        "  for index, row in teams.iterrows():\n",
        "    ## Home Team Stats\n",
        "    df.loc[ df['HomeTeam'] == row.Team, 'HomeScoreAverage' ] = df[(df['HomeTeam'] == row.Team)]['HomeScore'].expanding().mean()\n",
        "    df.loc[ df['HomeTeam'] == row.Team, 'HomeDefenseAverage' ] = df[(df['HomeTeam'] == row.Team)]['AwayScore'].expanding().mean()\n",
        "    ## Away Team Stats\n",
        "    df.loc[ df['AwayTeam'] == row.Team, 'AwayScoreAverage' ] = df[(df['AwayTeam'] == row.Team)]['AwayScore'].expanding().mean()\n",
        "    df.loc[ df['AwayTeam'] == row.Team, 'AwayDefenseAverage' ] = df[(df['AwayTeam'] == row.Team)]['HomeScore'].expanding().mean()"
      ],
      "execution_count": 8,
      "outputs": []
    },
    {
      "cell_type": "code",
      "metadata": {
        "id": "4ljyc7CVyZ7-",
        "colab_type": "code",
        "colab": {
          "base_uri": "https://localhost:8080/",
          "height": 746
        },
        "outputId": "f985eb3d-7e9d-4773-dffe-d8709510ecfa"
      },
      "source": [
        "CalculateScores(s2015)\n",
        "CalculateScores(s2016)\n",
        "CalculateScores(s2017)\n",
        "CalculateScores(s2018)\n",
        "\n",
        "s2015.head(20)"
      ],
      "execution_count": 56,
      "outputs": [
        {
          "output_type": "execute_result",
          "data": {
            "text/html": [
              "<div>\n",
              "<style scoped>\n",
              "    .dataframe tbody tr th:only-of-type {\n",
              "        vertical-align: middle;\n",
              "    }\n",
              "\n",
              "    .dataframe tbody tr th {\n",
              "        vertical-align: top;\n",
              "    }\n",
              "\n",
              "    .dataframe thead th {\n",
              "        text-align: right;\n",
              "    }\n",
              "</style>\n",
              "<table border=\"1\" class=\"dataframe\">\n",
              "  <thead>\n",
              "    <tr style=\"text-align: right;\">\n",
              "      <th></th>\n",
              "      <th>Date</th>\n",
              "      <th>HomeTeam</th>\n",
              "      <th>HomeScore</th>\n",
              "      <th>AwayTeam</th>\n",
              "      <th>AwayScore</th>\n",
              "      <th>HomeScoreAverage</th>\n",
              "      <th>HomeDefenseAverage</th>\n",
              "      <th>AwayScoreAverage</th>\n",
              "      <th>AwayDefenseAverage</th>\n",
              "    </tr>\n",
              "  </thead>\n",
              "  <tbody>\n",
              "    <tr>\n",
              "      <th>0</th>\n",
              "      <td>2015-11-13</td>\n",
              "      <td>Hawaii</td>\n",
              "      <td>87</td>\n",
              "      <td>Montana State</td>\n",
              "      <td>76</td>\n",
              "      <td>87.0</td>\n",
              "      <td>76.0</td>\n",
              "      <td>76.0</td>\n",
              "      <td>87.0</td>\n",
              "    </tr>\n",
              "    <tr>\n",
              "      <th>1</th>\n",
              "      <td>2015-11-13</td>\n",
              "      <td>Eastern Michigan</td>\n",
              "      <td>70</td>\n",
              "      <td>Vermont</td>\n",
              "      <td>50</td>\n",
              "      <td>70.0</td>\n",
              "      <td>50.0</td>\n",
              "      <td>50.0</td>\n",
              "      <td>70.0</td>\n",
              "    </tr>\n",
              "    <tr>\n",
              "      <th>2</th>\n",
              "      <td>2015-11-13</td>\n",
              "      <td>Columbia</td>\n",
              "      <td>107</td>\n",
              "      <td>Kean</td>\n",
              "      <td>62</td>\n",
              "      <td>107.0</td>\n",
              "      <td>62.0</td>\n",
              "      <td>NaN</td>\n",
              "      <td>NaN</td>\n",
              "    </tr>\n",
              "    <tr>\n",
              "      <th>3</th>\n",
              "      <td>2015-11-13</td>\n",
              "      <td>Louisiana-Monroe</td>\n",
              "      <td>88</td>\n",
              "      <td>McMurry</td>\n",
              "      <td>43</td>\n",
              "      <td>88.0</td>\n",
              "      <td>43.0</td>\n",
              "      <td>NaN</td>\n",
              "      <td>NaN</td>\n",
              "    </tr>\n",
              "    <tr>\n",
              "      <th>4</th>\n",
              "      <td>2015-11-13</td>\n",
              "      <td>Yale</td>\n",
              "      <td>70</td>\n",
              "      <td>Fairfield</td>\n",
              "      <td>57</td>\n",
              "      <td>70.0</td>\n",
              "      <td>57.0</td>\n",
              "      <td>57.0</td>\n",
              "      <td>70.0</td>\n",
              "    </tr>\n",
              "    <tr>\n",
              "      <th>5</th>\n",
              "      <td>2015-11-13</td>\n",
              "      <td>North Dakota</td>\n",
              "      <td>99</td>\n",
              "      <td>Minn.-Morris</td>\n",
              "      <td>69</td>\n",
              "      <td>99.0</td>\n",
              "      <td>69.0</td>\n",
              "      <td>NaN</td>\n",
              "      <td>NaN</td>\n",
              "    </tr>\n",
              "    <tr>\n",
              "      <th>6</th>\n",
              "      <td>2015-11-13</td>\n",
              "      <td>Central Michigan</td>\n",
              "      <td>89</td>\n",
              "      <td>Jacksonville State</td>\n",
              "      <td>83</td>\n",
              "      <td>89.0</td>\n",
              "      <td>83.0</td>\n",
              "      <td>83.0</td>\n",
              "      <td>89.0</td>\n",
              "    </tr>\n",
              "    <tr>\n",
              "      <th>7</th>\n",
              "      <td>2015-11-13</td>\n",
              "      <td>Army</td>\n",
              "      <td>93</td>\n",
              "      <td>Ferrum</td>\n",
              "      <td>54</td>\n",
              "      <td>93.0</td>\n",
              "      <td>54.0</td>\n",
              "      <td>NaN</td>\n",
              "      <td>NaN</td>\n",
              "    </tr>\n",
              "    <tr>\n",
              "      <th>8</th>\n",
              "      <td>2015-11-13</td>\n",
              "      <td>Iowa State</td>\n",
              "      <td>68</td>\n",
              "      <td>Colorado</td>\n",
              "      <td>62</td>\n",
              "      <td>68.0</td>\n",
              "      <td>62.0</td>\n",
              "      <td>62.0</td>\n",
              "      <td>68.0</td>\n",
              "    </tr>\n",
              "    <tr>\n",
              "      <th>9</th>\n",
              "      <td>2015-11-13</td>\n",
              "      <td>Ole Miss</td>\n",
              "      <td>90</td>\n",
              "      <td>Northwestern State</td>\n",
              "      <td>76</td>\n",
              "      <td>90.0</td>\n",
              "      <td>76.0</td>\n",
              "      <td>76.0</td>\n",
              "      <td>90.0</td>\n",
              "    </tr>\n",
              "    <tr>\n",
              "      <th>10</th>\n",
              "      <td>2015-11-13</td>\n",
              "      <td>Wright State</td>\n",
              "      <td>77</td>\n",
              "      <td>South Dakota</td>\n",
              "      <td>69</td>\n",
              "      <td>77.0</td>\n",
              "      <td>69.0</td>\n",
              "      <td>69.0</td>\n",
              "      <td>77.0</td>\n",
              "    </tr>\n",
              "    <tr>\n",
              "      <th>11</th>\n",
              "      <td>2015-11-13</td>\n",
              "      <td>Pennsylvania</td>\n",
              "      <td>76</td>\n",
              "      <td>Robert Morris</td>\n",
              "      <td>75</td>\n",
              "      <td>76.0</td>\n",
              "      <td>75.0</td>\n",
              "      <td>75.0</td>\n",
              "      <td>76.0</td>\n",
              "    </tr>\n",
              "    <tr>\n",
              "      <th>12</th>\n",
              "      <td>2015-11-13</td>\n",
              "      <td>Sacred Heart</td>\n",
              "      <td>76</td>\n",
              "      <td>Quinnipiac</td>\n",
              "      <td>64</td>\n",
              "      <td>76.0</td>\n",
              "      <td>64.0</td>\n",
              "      <td>64.0</td>\n",
              "      <td>76.0</td>\n",
              "    </tr>\n",
              "    <tr>\n",
              "      <th>13</th>\n",
              "      <td>2015-11-13</td>\n",
              "      <td>St John's</td>\n",
              "      <td>66</td>\n",
              "      <td>Wagner</td>\n",
              "      <td>57</td>\n",
              "      <td>66.0</td>\n",
              "      <td>57.0</td>\n",
              "      <td>57.0</td>\n",
              "      <td>66.0</td>\n",
              "    </tr>\n",
              "    <tr>\n",
              "      <th>14</th>\n",
              "      <td>2015-11-13</td>\n",
              "      <td>Georgia State</td>\n",
              "      <td>73</td>\n",
              "      <td>Middle Ga. St.</td>\n",
              "      <td>54</td>\n",
              "      <td>73.0</td>\n",
              "      <td>54.0</td>\n",
              "      <td>NaN</td>\n",
              "      <td>NaN</td>\n",
              "    </tr>\n",
              "    <tr>\n",
              "      <th>15</th>\n",
              "      <td>2015-11-13</td>\n",
              "      <td>Clemson</td>\n",
              "      <td>74</td>\n",
              "      <td>North Carolina Central</td>\n",
              "      <td>40</td>\n",
              "      <td>74.0</td>\n",
              "      <td>40.0</td>\n",
              "      <td>40.0</td>\n",
              "      <td>74.0</td>\n",
              "    </tr>\n",
              "    <tr>\n",
              "      <th>16</th>\n",
              "      <td>2015-11-13</td>\n",
              "      <td>Rutgers</td>\n",
              "      <td>72</td>\n",
              "      <td>Rutgers-Newark</td>\n",
              "      <td>59</td>\n",
              "      <td>72.0</td>\n",
              "      <td>59.0</td>\n",
              "      <td>NaN</td>\n",
              "      <td>NaN</td>\n",
              "    </tr>\n",
              "    <tr>\n",
              "      <th>17</th>\n",
              "      <td>2015-11-13</td>\n",
              "      <td>Duke</td>\n",
              "      <td>92</td>\n",
              "      <td>Siena</td>\n",
              "      <td>74</td>\n",
              "      <td>92.0</td>\n",
              "      <td>74.0</td>\n",
              "      <td>74.0</td>\n",
              "      <td>92.0</td>\n",
              "    </tr>\n",
              "    <tr>\n",
              "      <th>18</th>\n",
              "      <td>2015-11-13</td>\n",
              "      <td>North Carolina-Wilmington</td>\n",
              "      <td>100</td>\n",
              "      <td>Milligan</td>\n",
              "      <td>62</td>\n",
              "      <td>100.0</td>\n",
              "      <td>62.0</td>\n",
              "      <td>NaN</td>\n",
              "      <td>NaN</td>\n",
              "    </tr>\n",
              "    <tr>\n",
              "      <th>19</th>\n",
              "      <td>2015-11-13</td>\n",
              "      <td>Michigan State</td>\n",
              "      <td>82</td>\n",
              "      <td>Florida Atlantic</td>\n",
              "      <td>55</td>\n",
              "      <td>82.0</td>\n",
              "      <td>55.0</td>\n",
              "      <td>55.0</td>\n",
              "      <td>82.0</td>\n",
              "    </tr>\n",
              "  </tbody>\n",
              "</table>\n",
              "</div>"
            ],
            "text/plain": [
              "          Date                   HomeTeam  ...  AwayScoreAverage AwayDefenseAverage\n",
              "0   2015-11-13                     Hawaii  ...              76.0               87.0\n",
              "1   2015-11-13           Eastern Michigan  ...              50.0               70.0\n",
              "2   2015-11-13                   Columbia  ...               NaN                NaN\n",
              "3   2015-11-13           Louisiana-Monroe  ...               NaN                NaN\n",
              "4   2015-11-13                       Yale  ...              57.0               70.0\n",
              "5   2015-11-13               North Dakota  ...               NaN                NaN\n",
              "6   2015-11-13           Central Michigan  ...              83.0               89.0\n",
              "7   2015-11-13                       Army  ...               NaN                NaN\n",
              "8   2015-11-13                 Iowa State  ...              62.0               68.0\n",
              "9   2015-11-13                   Ole Miss  ...              76.0               90.0\n",
              "10  2015-11-13               Wright State  ...              69.0               77.0\n",
              "11  2015-11-13               Pennsylvania  ...              75.0               76.0\n",
              "12  2015-11-13               Sacred Heart  ...              64.0               76.0\n",
              "13  2015-11-13                  St John's  ...              57.0               66.0\n",
              "14  2015-11-13              Georgia State  ...               NaN                NaN\n",
              "15  2015-11-13                    Clemson  ...              40.0               74.0\n",
              "16  2015-11-13                    Rutgers  ...               NaN                NaN\n",
              "17  2015-11-13                       Duke  ...              74.0               92.0\n",
              "18  2015-11-13  North Carolina-Wilmington  ...               NaN                NaN\n",
              "19  2015-11-13             Michigan State  ...              55.0               82.0\n",
              "\n",
              "[20 rows x 9 columns]"
            ]
          },
          "metadata": {
            "tags": []
          },
          "execution_count": 56
        }
      ]
    },
    {
      "cell_type": "code",
      "metadata": {
        "id": "opE0qookPKSa",
        "colab_type": "code",
        "colab": {}
      },
      "source": [
        "def calc_number_of_consecutive_wins(df):\n",
        "  return"
      ],
      "execution_count": null,
      "outputs": []
    },
    {
      "cell_type": "markdown",
      "metadata": {
        "id": "shbNYxPkyv7x",
        "colab_type": "text"
      },
      "source": [
        "## Combine the data, remove NA values, and calculate the results  \n",
        "\n",
        "We need to remove the NA values because they will crash the system later on. We are also doing in `inplace` so we don't create a new DataFrame.\n",
        "\n",
        "**Note**: We could go and investigate each of these NA values and try and determine why they happened. A couple of them are because teams play non-NCAA teams early in the season and we don't have their history."
      ]
    },
    {
      "cell_type": "code",
      "metadata": {
        "id": "M_7dlz5YzKLZ",
        "colab_type": "code",
        "colab": {
          "base_uri": "https://localhost:8080/",
          "height": 52
        },
        "outputId": "01f0f0a6-043d-4b71-ad43-15d47ff13d7d"
      },
      "source": [
        "all_data = pd.concat([s2015,s2016,s2017,s2018])\n",
        "#Remove NAN values\n",
        "print(len(all_data))\n",
        "all_data.dropna(inplace=True)\n",
        "print(len(all_data))\n",
        "\n",
        "all_data['PointSpread'] = games.HomeScore - games.AwayScore"
      ],
      "execution_count": 10,
      "outputs": [
        {
          "output_type": "stream",
          "text": [
            "23291\n",
            "20362\n"
          ],
          "name": "stdout"
        }
      ]
    },
    {
      "cell_type": "markdown",
      "metadata": {
        "id": "YOcwC7E20HsL",
        "colab_type": "text"
      },
      "source": [
        "## Save the DataFrame as 'Games-Clean.csv'  \n",
        "\n",
        "The following code will allow us to download the csv that we have created. If you are using something other than Google Colab you will have to check out their documentation on how to save.  "
      ]
    },
    {
      "cell_type": "code",
      "metadata": {
        "id": "LGPJ-7d80MKf",
        "colab_type": "code",
        "colab": {
          "base_uri": "https://localhost:8080/",
          "height": 17
        },
        "outputId": "614a74bc-2b48-4fa0-8776-7b0391d2c5b2"
      },
      "source": [
        "file_name = 'Games-Clean.csv'\n",
        "\n",
        "#Save the model\n",
        "all_data.to_csv(file_name, header = True, index = False)\n",
        "\n",
        "#Google Colab code to download\n",
        "from google.colab import files\n",
        "files.download(file_name)"
      ],
      "execution_count": 63,
      "outputs": [
        {
          "output_type": "display_data",
          "data": {
            "application/javascript": [
              "\n",
              "    async function download(id, filename, size) {\n",
              "      if (!google.colab.kernel.accessAllowed) {\n",
              "        return;\n",
              "      }\n",
              "      const div = document.createElement('div');\n",
              "      const label = document.createElement('label');\n",
              "      label.textContent = `Downloading \"${filename}\": `;\n",
              "      div.appendChild(label);\n",
              "      const progress = document.createElement('progress');\n",
              "      progress.max = size;\n",
              "      div.appendChild(progress);\n",
              "      document.body.appendChild(div);\n",
              "\n",
              "      const buffers = [];\n",
              "      let downloaded = 0;\n",
              "\n",
              "      const channel = await google.colab.kernel.comms.open(id);\n",
              "      // Send a message to notify the kernel that we're ready.\n",
              "      channel.send({})\n",
              "\n",
              "      for await (const message of channel.messages) {\n",
              "        // Send a message to notify the kernel that we're ready.\n",
              "        channel.send({})\n",
              "        if (message.buffers) {\n",
              "          for (const buffer of message.buffers) {\n",
              "            buffers.push(buffer);\n",
              "            downloaded += buffer.byteLength;\n",
              "            progress.value = downloaded;\n",
              "          }\n",
              "        }\n",
              "      }\n",
              "      const blob = new Blob(buffers, {type: 'application/binary'});\n",
              "      const a = document.createElement('a');\n",
              "      a.href = window.URL.createObjectURL(blob);\n",
              "      a.download = filename;\n",
              "      div.appendChild(a);\n",
              "      a.click();\n",
              "      div.remove();\n",
              "    }\n",
              "  "
            ],
            "text/plain": [
              "<IPython.core.display.Javascript object>"
            ]
          },
          "metadata": {
            "tags": []
          }
        },
        {
          "output_type": "display_data",
          "data": {
            "application/javascript": [
              "download(\"download_7765b5cd-1061-446f-87d4-ccf4c2bd2802\", \"Games-Clean.csv\", 1828676)"
            ],
            "text/plain": [
              "<IPython.core.display.Javascript object>"
            ]
          },
          "metadata": {
            "tags": []
          }
        }
      ]
    },
    {
      "cell_type": "markdown",
      "metadata": {
        "id": "5oR7uKOiSGBH",
        "colab_type": "text"
      },
      "source": [
        "# Deep Learning using Tensorflow\n",
        "\n",
        "In this section we are going to be using Tensorflow to predict NCAA basketball games. Using the dataset we created in the previous steps of the project, we can predict a few different things, such as:\n",
        "\n",
        "- Winners and Losers of Games\n",
        "- Point Spreads of Games"
      ]
    },
    {
      "cell_type": "code",
      "metadata": {
        "id": "8V9_WX5nSnfw",
        "colab_type": "code",
        "colab": {
          "base_uri": "https://localhost:8080/",
          "height": 608
        },
        "outputId": "b7e26470-d9b9-448f-edae-5b49558e0d5d"
      },
      "source": [
        "import tensorflow as tf\n",
        "from tensorflow.keras.models import Sequential\n",
        "from tensorflow.keras.layers import Dense, Dropout, Flatten\n",
        "from tensorflow.keras import utils\n",
        "\n",
        "import plotly.graph_objects as go\n",
        "import plotly\n",
        "\n",
        "games_df = pd.read_csv('Games-Clean.csv')\n",
        "games_df['Date'] = pd.to_datetime(games_df['Date'])\n",
        "print(games_df.shape)\n",
        "print(games_df.info())\n",
        "games_df.head()"
      ],
      "execution_count": 81,
      "outputs": [
        {
          "output_type": "stream",
          "text": [
            "(20362, 10)\n",
            "<class 'pandas.core.frame.DataFrame'>\n",
            "RangeIndex: 20362 entries, 0 to 20361\n",
            "Data columns (total 10 columns):\n",
            " #   Column              Non-Null Count  Dtype         \n",
            "---  ------              --------------  -----         \n",
            " 0   Date                20362 non-null  datetime64[ns]\n",
            " 1   HomeTeam            20362 non-null  object        \n",
            " 2   HomeScore           20362 non-null  int64         \n",
            " 3   AwayTeam            20362 non-null  object        \n",
            " 4   AwayScore           20362 non-null  int64         \n",
            " 5   HomeScoreAverage    20362 non-null  float64       \n",
            " 6   HomeDefenseAverage  20362 non-null  float64       \n",
            " 7   AwayScoreAverage    20362 non-null  float64       \n",
            " 8   AwayDefenseAverage  20362 non-null  float64       \n",
            " 9   PointSpread         20362 non-null  int64         \n",
            "dtypes: datetime64[ns](1), float64(4), int64(3), object(2)\n",
            "memory usage: 1.6+ MB\n",
            "None\n"
          ],
          "name": "stdout"
        },
        {
          "output_type": "execute_result",
          "data": {
            "text/html": [
              "<div>\n",
              "<style scoped>\n",
              "    .dataframe tbody tr th:only-of-type {\n",
              "        vertical-align: middle;\n",
              "    }\n",
              "\n",
              "    .dataframe tbody tr th {\n",
              "        vertical-align: top;\n",
              "    }\n",
              "\n",
              "    .dataframe thead th {\n",
              "        text-align: right;\n",
              "    }\n",
              "</style>\n",
              "<table border=\"1\" class=\"dataframe\">\n",
              "  <thead>\n",
              "    <tr style=\"text-align: right;\">\n",
              "      <th></th>\n",
              "      <th>Date</th>\n",
              "      <th>HomeTeam</th>\n",
              "      <th>HomeScore</th>\n",
              "      <th>AwayTeam</th>\n",
              "      <th>AwayScore</th>\n",
              "      <th>HomeScoreAverage</th>\n",
              "      <th>HomeDefenseAverage</th>\n",
              "      <th>AwayScoreAverage</th>\n",
              "      <th>AwayDefenseAverage</th>\n",
              "      <th>PointSpread</th>\n",
              "    </tr>\n",
              "  </thead>\n",
              "  <tbody>\n",
              "    <tr>\n",
              "      <th>0</th>\n",
              "      <td>2015-11-13</td>\n",
              "      <td>Hawaii</td>\n",
              "      <td>87</td>\n",
              "      <td>Montana State</td>\n",
              "      <td>76</td>\n",
              "      <td>87.0</td>\n",
              "      <td>76.0</td>\n",
              "      <td>76.0</td>\n",
              "      <td>87.0</td>\n",
              "      <td>11</td>\n",
              "    </tr>\n",
              "    <tr>\n",
              "      <th>1</th>\n",
              "      <td>2015-11-13</td>\n",
              "      <td>Eastern Michigan</td>\n",
              "      <td>70</td>\n",
              "      <td>Vermont</td>\n",
              "      <td>50</td>\n",
              "      <td>70.0</td>\n",
              "      <td>50.0</td>\n",
              "      <td>50.0</td>\n",
              "      <td>70.0</td>\n",
              "      <td>20</td>\n",
              "    </tr>\n",
              "    <tr>\n",
              "      <th>2</th>\n",
              "      <td>2015-11-13</td>\n",
              "      <td>Yale</td>\n",
              "      <td>70</td>\n",
              "      <td>Fairfield</td>\n",
              "      <td>57</td>\n",
              "      <td>70.0</td>\n",
              "      <td>57.0</td>\n",
              "      <td>57.0</td>\n",
              "      <td>70.0</td>\n",
              "      <td>13</td>\n",
              "    </tr>\n",
              "    <tr>\n",
              "      <th>3</th>\n",
              "      <td>2015-11-13</td>\n",
              "      <td>Central Michigan</td>\n",
              "      <td>89</td>\n",
              "      <td>Jacksonville State</td>\n",
              "      <td>83</td>\n",
              "      <td>89.0</td>\n",
              "      <td>83.0</td>\n",
              "      <td>83.0</td>\n",
              "      <td>89.0</td>\n",
              "      <td>6</td>\n",
              "    </tr>\n",
              "    <tr>\n",
              "      <th>4</th>\n",
              "      <td>2015-11-13</td>\n",
              "      <td>Iowa State</td>\n",
              "      <td>68</td>\n",
              "      <td>Colorado</td>\n",
              "      <td>62</td>\n",
              "      <td>68.0</td>\n",
              "      <td>62.0</td>\n",
              "      <td>62.0</td>\n",
              "      <td>68.0</td>\n",
              "      <td>6</td>\n",
              "    </tr>\n",
              "  </tbody>\n",
              "</table>\n",
              "</div>"
            ],
            "text/plain": [
              "        Date          HomeTeam  ...  AwayDefenseAverage PointSpread\n",
              "0 2015-11-13            Hawaii  ...                87.0          11\n",
              "1 2015-11-13  Eastern Michigan  ...                70.0          20\n",
              "2 2015-11-13              Yale  ...                70.0          13\n",
              "3 2015-11-13  Central Michigan  ...                89.0           6\n",
              "4 2015-11-13        Iowa State  ...                68.0           6\n",
              "\n",
              "[5 rows x 10 columns]"
            ]
          },
          "metadata": {
            "tags": []
          },
          "execution_count": 81
        }
      ]
    },
    {
      "cell_type": "code",
      "metadata": {
        "id": "exND2MrYWyw7",
        "colab_type": "code",
        "colab": {
          "base_uri": "https://localhost:8080/",
          "height": 708
        },
        "outputId": "158d4f6e-084a-49f8-b906-a3329405072b"
      },
      "source": [
        "games_df['period'] = games_df['Date'].dt.to_period('M').astype(str)\n",
        "count_df = games_df.groupby('period').size().to_frame('Number of Games').reset_index()\n",
        "count_df.head(25)"
      ],
      "execution_count": 111,
      "outputs": [
        {
          "output_type": "execute_result",
          "data": {
            "text/html": [
              "<div>\n",
              "<style scoped>\n",
              "    .dataframe tbody tr th:only-of-type {\n",
              "        vertical-align: middle;\n",
              "    }\n",
              "\n",
              "    .dataframe tbody tr th {\n",
              "        vertical-align: top;\n",
              "    }\n",
              "\n",
              "    .dataframe thead th {\n",
              "        text-align: right;\n",
              "    }\n",
              "</style>\n",
              "<table border=\"1\" class=\"dataframe\">\n",
              "  <thead>\n",
              "    <tr style=\"text-align: right;\">\n",
              "      <th></th>\n",
              "      <th>period</th>\n",
              "      <th>Number of Games</th>\n",
              "    </tr>\n",
              "  </thead>\n",
              "  <tbody>\n",
              "    <tr>\n",
              "      <th>0</th>\n",
              "      <td>2015-11</td>\n",
              "      <td>879</td>\n",
              "    </tr>\n",
              "    <tr>\n",
              "      <th>1</th>\n",
              "      <td>2015-12</td>\n",
              "      <td>1059</td>\n",
              "    </tr>\n",
              "    <tr>\n",
              "      <th>2</th>\n",
              "      <td>2016-01</td>\n",
              "      <td>1413</td>\n",
              "    </tr>\n",
              "    <tr>\n",
              "      <th>3</th>\n",
              "      <td>2016-02</td>\n",
              "      <td>1282</td>\n",
              "    </tr>\n",
              "    <tr>\n",
              "      <th>4</th>\n",
              "      <td>2016-03</td>\n",
              "      <td>537</td>\n",
              "    </tr>\n",
              "    <tr>\n",
              "      <th>5</th>\n",
              "      <td>2016-04</td>\n",
              "      <td>1</td>\n",
              "    </tr>\n",
              "    <tr>\n",
              "      <th>6</th>\n",
              "      <td>2016-11</td>\n",
              "      <td>1009</td>\n",
              "    </tr>\n",
              "    <tr>\n",
              "      <th>7</th>\n",
              "      <td>2016-12</td>\n",
              "      <td>1066</td>\n",
              "    </tr>\n",
              "    <tr>\n",
              "      <th>8</th>\n",
              "      <td>2017-01</td>\n",
              "      <td>1343</td>\n",
              "    </tr>\n",
              "    <tr>\n",
              "      <th>9</th>\n",
              "      <td>2017-02</td>\n",
              "      <td>1263</td>\n",
              "    </tr>\n",
              "    <tr>\n",
              "      <th>10</th>\n",
              "      <td>2017-03</td>\n",
              "      <td>508</td>\n",
              "    </tr>\n",
              "    <tr>\n",
              "      <th>11</th>\n",
              "      <td>2017-11</td>\n",
              "      <td>974</td>\n",
              "    </tr>\n",
              "    <tr>\n",
              "      <th>12</th>\n",
              "      <td>2017-12</td>\n",
              "      <td>1090</td>\n",
              "    </tr>\n",
              "    <tr>\n",
              "      <th>13</th>\n",
              "      <td>2018-01</td>\n",
              "      <td>1353</td>\n",
              "    </tr>\n",
              "    <tr>\n",
              "      <th>14</th>\n",
              "      <td>2018-02</td>\n",
              "      <td>1246</td>\n",
              "    </tr>\n",
              "    <tr>\n",
              "      <th>15</th>\n",
              "      <td>2018-03</td>\n",
              "      <td>259</td>\n",
              "    </tr>\n",
              "    <tr>\n",
              "      <th>16</th>\n",
              "      <td>2018-11</td>\n",
              "      <td>1004</td>\n",
              "    </tr>\n",
              "    <tr>\n",
              "      <th>17</th>\n",
              "      <td>2018-12</td>\n",
              "      <td>932</td>\n",
              "    </tr>\n",
              "    <tr>\n",
              "      <th>18</th>\n",
              "      <td>2019-01</td>\n",
              "      <td>1290</td>\n",
              "    </tr>\n",
              "    <tr>\n",
              "      <th>19</th>\n",
              "      <td>2019-02</td>\n",
              "      <td>1189</td>\n",
              "    </tr>\n",
              "    <tr>\n",
              "      <th>20</th>\n",
              "      <td>2019-03</td>\n",
              "      <td>665</td>\n",
              "    </tr>\n",
              "  </tbody>\n",
              "</table>\n",
              "</div>"
            ],
            "text/plain": [
              "     period  Number of Games\n",
              "0   2015-11              879\n",
              "1   2015-12             1059\n",
              "2   2016-01             1413\n",
              "3   2016-02             1282\n",
              "4   2016-03              537\n",
              "5   2016-04                1\n",
              "6   2016-11             1009\n",
              "7   2016-12             1066\n",
              "8   2017-01             1343\n",
              "9   2017-02             1263\n",
              "10  2017-03              508\n",
              "11  2017-11              974\n",
              "12  2017-12             1090\n",
              "13  2018-01             1353\n",
              "14  2018-02             1246\n",
              "15  2018-03              259\n",
              "16  2018-11             1004\n",
              "17  2018-12              932\n",
              "18  2019-01             1290\n",
              "19  2019-02             1189\n",
              "20  2019-03              665"
            ]
          },
          "metadata": {
            "tags": []
          },
          "execution_count": 111
        }
      ]
    },
    {
      "cell_type": "code",
      "metadata": {
        "id": "cdi4wcU45In0",
        "colab_type": "code",
        "colab": {
          "base_uri": "https://localhost:8080/",
          "height": 278
        },
        "outputId": "865cf6f3-ac68-4438-e7cf-ce88e78510b5"
      },
      "source": [
        "games_df.head()"
      ],
      "execution_count": 108,
      "outputs": [
        {
          "output_type": "execute_result",
          "data": {
            "text/html": [
              "<div>\n",
              "<style scoped>\n",
              "    .dataframe tbody tr th:only-of-type {\n",
              "        vertical-align: middle;\n",
              "    }\n",
              "\n",
              "    .dataframe tbody tr th {\n",
              "        vertical-align: top;\n",
              "    }\n",
              "\n",
              "    .dataframe thead th {\n",
              "        text-align: right;\n",
              "    }\n",
              "</style>\n",
              "<table border=\"1\" class=\"dataframe\">\n",
              "  <thead>\n",
              "    <tr style=\"text-align: right;\">\n",
              "      <th></th>\n",
              "      <th>Date</th>\n",
              "      <th>HomeTeam</th>\n",
              "      <th>HomeScore</th>\n",
              "      <th>AwayTeam</th>\n",
              "      <th>AwayScore</th>\n",
              "      <th>HomeScoreAverage</th>\n",
              "      <th>HomeDefenseAverage</th>\n",
              "      <th>AwayScoreAverage</th>\n",
              "      <th>AwayDefenseAverage</th>\n",
              "      <th>PointSpread</th>\n",
              "      <th>period</th>\n",
              "    </tr>\n",
              "  </thead>\n",
              "  <tbody>\n",
              "    <tr>\n",
              "      <th>0</th>\n",
              "      <td>2015-11-13</td>\n",
              "      <td>Hawaii</td>\n",
              "      <td>87</td>\n",
              "      <td>Montana State</td>\n",
              "      <td>76</td>\n",
              "      <td>87.0</td>\n",
              "      <td>76.0</td>\n",
              "      <td>76.0</td>\n",
              "      <td>87.0</td>\n",
              "      <td>11</td>\n",
              "      <td>2015-11</td>\n",
              "    </tr>\n",
              "    <tr>\n",
              "      <th>1</th>\n",
              "      <td>2015-11-13</td>\n",
              "      <td>Eastern Michigan</td>\n",
              "      <td>70</td>\n",
              "      <td>Vermont</td>\n",
              "      <td>50</td>\n",
              "      <td>70.0</td>\n",
              "      <td>50.0</td>\n",
              "      <td>50.0</td>\n",
              "      <td>70.0</td>\n",
              "      <td>20</td>\n",
              "      <td>2015-11</td>\n",
              "    </tr>\n",
              "    <tr>\n",
              "      <th>2</th>\n",
              "      <td>2015-11-13</td>\n",
              "      <td>Yale</td>\n",
              "      <td>70</td>\n",
              "      <td>Fairfield</td>\n",
              "      <td>57</td>\n",
              "      <td>70.0</td>\n",
              "      <td>57.0</td>\n",
              "      <td>57.0</td>\n",
              "      <td>70.0</td>\n",
              "      <td>13</td>\n",
              "      <td>2015-11</td>\n",
              "    </tr>\n",
              "    <tr>\n",
              "      <th>3</th>\n",
              "      <td>2015-11-13</td>\n",
              "      <td>Central Michigan</td>\n",
              "      <td>89</td>\n",
              "      <td>Jacksonville State</td>\n",
              "      <td>83</td>\n",
              "      <td>89.0</td>\n",
              "      <td>83.0</td>\n",
              "      <td>83.0</td>\n",
              "      <td>89.0</td>\n",
              "      <td>6</td>\n",
              "      <td>2015-11</td>\n",
              "    </tr>\n",
              "    <tr>\n",
              "      <th>4</th>\n",
              "      <td>2015-11-13</td>\n",
              "      <td>Iowa State</td>\n",
              "      <td>68</td>\n",
              "      <td>Colorado</td>\n",
              "      <td>62</td>\n",
              "      <td>68.0</td>\n",
              "      <td>62.0</td>\n",
              "      <td>62.0</td>\n",
              "      <td>68.0</td>\n",
              "      <td>6</td>\n",
              "      <td>2015-11</td>\n",
              "    </tr>\n",
              "  </tbody>\n",
              "</table>\n",
              "</div>"
            ],
            "text/plain": [
              "        Date          HomeTeam  ...  PointSpread   period\n",
              "0 2015-11-13            Hawaii  ...           11  2015-11\n",
              "1 2015-11-13  Eastern Michigan  ...           20  2015-11\n",
              "2 2015-11-13              Yale  ...           13  2015-11\n",
              "3 2015-11-13  Central Michigan  ...            6  2015-11\n",
              "4 2015-11-13        Iowa State  ...            6  2015-11\n",
              "\n",
              "[5 rows x 11 columns]"
            ]
          },
          "metadata": {
            "tags": []
          },
          "execution_count": 108
        }
      ]
    },
    {
      "cell_type": "code",
      "metadata": {
        "id": "Hzn2eZObe2su",
        "colab_type": "code",
        "colab": {
          "base_uri": "https://localhost:8080/",
          "height": 156
        },
        "outputId": "17efa6b2-afe8-4a96-ba37-bfe21103c4d1"
      },
      "source": [
        "games_df.drop('period', axis=1, inplace = True)\n",
        "train = games_df[games_df['Date'].dt.to_period('M') <= '2017-03']\n",
        "test = games_df[games_df['Date'].dt.to_period('M') > '2017-03']\n",
        "\n",
        "print(train['Date'].min())\n",
        "print(train['Date'].max())\n",
        "print(test['Date'].min())\n",
        "print(test['Date'].max())\n",
        "print(train.columns)"
      ],
      "execution_count": 112,
      "outputs": [
        {
          "output_type": "stream",
          "text": [
            "2015-11-13 00:00:00\n",
            "2017-03-31 00:00:00\n",
            "2017-11-10 00:00:00\n",
            "2019-03-22 00:00:00\n",
            "Index(['Date', 'HomeTeam', 'HomeScore', 'AwayTeam', 'AwayScore',\n",
            "       'HomeScoreAverage', 'HomeDefenseAverage', 'AwayScoreAverage',\n",
            "       'AwayDefenseAverage', 'PointSpread'],\n",
            "      dtype='object')\n"
          ],
          "name": "stdout"
        }
      ]
    },
    {
      "cell_type": "code",
      "metadata": {
        "id": "VlC64XIKfb8i",
        "colab_type": "code",
        "colab": {}
      },
      "source": [
        "y_train = train.pop('PointSpread')\n",
        "y_test = test.pop('PointSpread')"
      ],
      "execution_count": 93,
      "outputs": []
    },
    {
      "cell_type": "code",
      "metadata": {
        "id": "WQ6_2YXefuGj",
        "colab_type": "code",
        "colab": {
          "base_uri": "https://localhost:8080/",
          "height": 156
        },
        "outputId": "9b476757-6686-4e03-90a9-70262227d8b0"
      },
      "source": [
        "print(train.columns)\n",
        "print(test.columns)"
      ],
      "execution_count": 94,
      "outputs": [
        {
          "output_type": "stream",
          "text": [
            "Index(['Date', 'HomeTeam', 'HomeScore', 'AwayTeam', 'AwayScore',\n",
            "       'HomeScoreAverage', 'HomeDefenseAverage', 'AwayScoreAverage',\n",
            "       'AwayDefenseAverage', 'period'],\n",
            "      dtype='object')\n",
            "Index(['Date', 'HomeTeam', 'HomeScore', 'AwayTeam', 'AwayScore',\n",
            "       'HomeScoreAverage', 'HomeDefenseAverage', 'AwayScoreAverage',\n",
            "       'AwayDefenseAverage', 'period'],\n",
            "      dtype='object')\n"
          ],
          "name": "stdout"
        }
      ]
    },
    {
      "cell_type": "code",
      "metadata": {
        "id": "qtxg9H6ITOEK",
        "colab_type": "code",
        "colab": {
          "base_uri": "https://localhost:8080/",
          "height": 260
        },
        "outputId": "a54b20ea-86b2-430d-fa44-6368081e8941"
      },
      "source": [
        "model = Sequential()\n",
        "model.add(Dense(units = 8, input_shape = (10,)))\n",
        "model.add(Dense(units = 16, activation='relu'))\n",
        "model.add(Dense(units=1))\n",
        "\n",
        "optimizer = tf.keras.optimizers.RMSprop(0.001)\n",
        "\n",
        "\n",
        "model.compile(loss='mse',\n",
        "              optimizer=optimizer,\n",
        "              metrics=['mae', 'mse'])\n",
        "\n",
        "\n",
        "model.summary()"
      ],
      "execution_count": 98,
      "outputs": [
        {
          "output_type": "stream",
          "text": [
            "Model: \"sequential_2\"\n",
            "_________________________________________________________________\n",
            "Layer (type)                 Output Shape              Param #   \n",
            "=================================================================\n",
            "dense_6 (Dense)              (None, 8)                 88        \n",
            "_________________________________________________________________\n",
            "dense_7 (Dense)              (None, 16)                144       \n",
            "_________________________________________________________________\n",
            "dense_8 (Dense)              (None, 1)                 17        \n",
            "=================================================================\n",
            "Total params: 249\n",
            "Trainable params: 249\n",
            "Non-trainable params: 0\n",
            "_________________________________________________________________\n"
          ],
          "name": "stdout"
        }
      ]
    },
    {
      "cell_type": "code",
      "metadata": {
        "id": "DZHyLWWr3OrH",
        "colab_type": "code",
        "colab": {
          "base_uri": "https://localhost:8080/",
          "height": 380
        },
        "outputId": "335dfb76-8b5c-44dd-92d8-75d31d55f375"
      },
      "source": [
        "for col in train.columns[1:]:\n",
        "  train[col] = train[col].astype('float32')\n",
        "  test[col] = test[col].astype('float32')\n",
        "\n",
        "fitted = model.fit(train.iloc[:, 1:], y_train, batch_size=32, epochs=10, verbose=2)"
      ],
      "execution_count": 114,
      "outputs": [
        {
          "output_type": "error",
          "ename": "ValueError",
          "evalue": "ignored",
          "traceback": [
            "\u001b[0;31m---------------------------------------------------------------------------\u001b[0m",
            "\u001b[0;31mValueError\u001b[0m                                Traceback (most recent call last)",
            "\u001b[0;32m<ipython-input-114-704d6a187994>\u001b[0m in \u001b[0;36m<module>\u001b[0;34m()\u001b[0m\n\u001b[1;32m      1\u001b[0m \u001b[0;32mfor\u001b[0m \u001b[0mcol\u001b[0m \u001b[0;32min\u001b[0m \u001b[0mtrain\u001b[0m\u001b[0;34m.\u001b[0m\u001b[0mcolumns\u001b[0m\u001b[0;34m[\u001b[0m\u001b[0;36m1\u001b[0m\u001b[0;34m:\u001b[0m\u001b[0;34m]\u001b[0m\u001b[0;34m:\u001b[0m\u001b[0;34m\u001b[0m\u001b[0;34m\u001b[0m\u001b[0m\n\u001b[0;32m----> 2\u001b[0;31m   \u001b[0mtrain\u001b[0m\u001b[0;34m[\u001b[0m\u001b[0mcol\u001b[0m\u001b[0;34m]\u001b[0m \u001b[0;34m=\u001b[0m \u001b[0mtrain\u001b[0m\u001b[0;34m[\u001b[0m\u001b[0mcol\u001b[0m\u001b[0;34m]\u001b[0m\u001b[0;34m.\u001b[0m\u001b[0mastype\u001b[0m\u001b[0;34m(\u001b[0m\u001b[0;34m'float32'\u001b[0m\u001b[0;34m)\u001b[0m\u001b[0;34m\u001b[0m\u001b[0;34m\u001b[0m\u001b[0m\n\u001b[0m\u001b[1;32m      3\u001b[0m   \u001b[0mtest\u001b[0m\u001b[0;34m[\u001b[0m\u001b[0mcol\u001b[0m\u001b[0;34m]\u001b[0m \u001b[0;34m=\u001b[0m \u001b[0mtest\u001b[0m\u001b[0;34m[\u001b[0m\u001b[0mcol\u001b[0m\u001b[0;34m]\u001b[0m\u001b[0;34m.\u001b[0m\u001b[0mastype\u001b[0m\u001b[0;34m(\u001b[0m\u001b[0;34m'float32'\u001b[0m\u001b[0;34m)\u001b[0m\u001b[0;34m\u001b[0m\u001b[0;34m\u001b[0m\u001b[0m\n\u001b[1;32m      4\u001b[0m \u001b[0;34m\u001b[0m\u001b[0m\n\u001b[1;32m      5\u001b[0m \u001b[0mfitted\u001b[0m \u001b[0;34m=\u001b[0m \u001b[0mmodel\u001b[0m\u001b[0;34m.\u001b[0m\u001b[0mfit\u001b[0m\u001b[0;34m(\u001b[0m\u001b[0mtrain\u001b[0m\u001b[0;34m.\u001b[0m\u001b[0miloc\u001b[0m\u001b[0;34m[\u001b[0m\u001b[0;34m:\u001b[0m\u001b[0;34m,\u001b[0m \u001b[0;36m1\u001b[0m\u001b[0;34m:\u001b[0m\u001b[0;34m]\u001b[0m\u001b[0;34m,\u001b[0m \u001b[0my_train\u001b[0m\u001b[0;34m,\u001b[0m \u001b[0mbatch_size\u001b[0m\u001b[0;34m=\u001b[0m\u001b[0;36m32\u001b[0m\u001b[0;34m,\u001b[0m \u001b[0mepochs\u001b[0m\u001b[0;34m=\u001b[0m\u001b[0;36m10\u001b[0m\u001b[0;34m,\u001b[0m \u001b[0mverbose\u001b[0m\u001b[0;34m=\u001b[0m\u001b[0;36m2\u001b[0m\u001b[0;34m)\u001b[0m\u001b[0;34m\u001b[0m\u001b[0;34m\u001b[0m\u001b[0m\n",
            "\u001b[0;32m/usr/local/lib/python3.6/dist-packages/pandas/core/generic.py\u001b[0m in \u001b[0;36mastype\u001b[0;34m(self, dtype, copy, errors)\u001b[0m\n\u001b[1;32m   5696\u001b[0m         \u001b[0;32melse\u001b[0m\u001b[0;34m:\u001b[0m\u001b[0;34m\u001b[0m\u001b[0;34m\u001b[0m\u001b[0m\n\u001b[1;32m   5697\u001b[0m             \u001b[0;31m# else, only a single dtype is given\u001b[0m\u001b[0;34m\u001b[0m\u001b[0;34m\u001b[0m\u001b[0;34m\u001b[0m\u001b[0m\n\u001b[0;32m-> 5698\u001b[0;31m             \u001b[0mnew_data\u001b[0m \u001b[0;34m=\u001b[0m \u001b[0mself\u001b[0m\u001b[0;34m.\u001b[0m\u001b[0m_data\u001b[0m\u001b[0;34m.\u001b[0m\u001b[0mastype\u001b[0m\u001b[0;34m(\u001b[0m\u001b[0mdtype\u001b[0m\u001b[0;34m=\u001b[0m\u001b[0mdtype\u001b[0m\u001b[0;34m,\u001b[0m \u001b[0mcopy\u001b[0m\u001b[0;34m=\u001b[0m\u001b[0mcopy\u001b[0m\u001b[0;34m,\u001b[0m \u001b[0merrors\u001b[0m\u001b[0;34m=\u001b[0m\u001b[0merrors\u001b[0m\u001b[0;34m)\u001b[0m\u001b[0;34m\u001b[0m\u001b[0;34m\u001b[0m\u001b[0m\n\u001b[0m\u001b[1;32m   5699\u001b[0m             \u001b[0;32mreturn\u001b[0m \u001b[0mself\u001b[0m\u001b[0;34m.\u001b[0m\u001b[0m_constructor\u001b[0m\u001b[0;34m(\u001b[0m\u001b[0mnew_data\u001b[0m\u001b[0;34m)\u001b[0m\u001b[0;34m.\u001b[0m\u001b[0m__finalize__\u001b[0m\u001b[0;34m(\u001b[0m\u001b[0mself\u001b[0m\u001b[0;34m)\u001b[0m\u001b[0;34m\u001b[0m\u001b[0;34m\u001b[0m\u001b[0m\n\u001b[1;32m   5700\u001b[0m \u001b[0;34m\u001b[0m\u001b[0m\n",
            "\u001b[0;32m/usr/local/lib/python3.6/dist-packages/pandas/core/internals/managers.py\u001b[0m in \u001b[0;36mastype\u001b[0;34m(self, dtype, copy, errors)\u001b[0m\n\u001b[1;32m    580\u001b[0m \u001b[0;34m\u001b[0m\u001b[0m\n\u001b[1;32m    581\u001b[0m     \u001b[0;32mdef\u001b[0m \u001b[0mastype\u001b[0m\u001b[0;34m(\u001b[0m\u001b[0mself\u001b[0m\u001b[0;34m,\u001b[0m \u001b[0mdtype\u001b[0m\u001b[0;34m,\u001b[0m \u001b[0mcopy\u001b[0m\u001b[0;34m:\u001b[0m \u001b[0mbool\u001b[0m \u001b[0;34m=\u001b[0m \u001b[0;32mFalse\u001b[0m\u001b[0;34m,\u001b[0m \u001b[0merrors\u001b[0m\u001b[0;34m:\u001b[0m \u001b[0mstr\u001b[0m \u001b[0;34m=\u001b[0m \u001b[0;34m\"raise\"\u001b[0m\u001b[0;34m)\u001b[0m\u001b[0;34m:\u001b[0m\u001b[0;34m\u001b[0m\u001b[0;34m\u001b[0m\u001b[0m\n\u001b[0;32m--> 582\u001b[0;31m         \u001b[0;32mreturn\u001b[0m \u001b[0mself\u001b[0m\u001b[0;34m.\u001b[0m\u001b[0mapply\u001b[0m\u001b[0;34m(\u001b[0m\u001b[0;34m\"astype\"\u001b[0m\u001b[0;34m,\u001b[0m \u001b[0mdtype\u001b[0m\u001b[0;34m=\u001b[0m\u001b[0mdtype\u001b[0m\u001b[0;34m,\u001b[0m \u001b[0mcopy\u001b[0m\u001b[0;34m=\u001b[0m\u001b[0mcopy\u001b[0m\u001b[0;34m,\u001b[0m \u001b[0merrors\u001b[0m\u001b[0;34m=\u001b[0m\u001b[0merrors\u001b[0m\u001b[0;34m)\u001b[0m\u001b[0;34m\u001b[0m\u001b[0;34m\u001b[0m\u001b[0m\n\u001b[0m\u001b[1;32m    583\u001b[0m \u001b[0;34m\u001b[0m\u001b[0m\n\u001b[1;32m    584\u001b[0m     \u001b[0;32mdef\u001b[0m \u001b[0mconvert\u001b[0m\u001b[0;34m(\u001b[0m\u001b[0mself\u001b[0m\u001b[0;34m,\u001b[0m \u001b[0;34m**\u001b[0m\u001b[0mkwargs\u001b[0m\u001b[0;34m)\u001b[0m\u001b[0;34m:\u001b[0m\u001b[0;34m\u001b[0m\u001b[0;34m\u001b[0m\u001b[0m\n",
            "\u001b[0;32m/usr/local/lib/python3.6/dist-packages/pandas/core/internals/managers.py\u001b[0m in \u001b[0;36mapply\u001b[0;34m(self, f, filter, **kwargs)\u001b[0m\n\u001b[1;32m    440\u001b[0m                 \u001b[0mapplied\u001b[0m \u001b[0;34m=\u001b[0m \u001b[0mb\u001b[0m\u001b[0;34m.\u001b[0m\u001b[0mapply\u001b[0m\u001b[0;34m(\u001b[0m\u001b[0mf\u001b[0m\u001b[0;34m,\u001b[0m \u001b[0;34m**\u001b[0m\u001b[0mkwargs\u001b[0m\u001b[0;34m)\u001b[0m\u001b[0;34m\u001b[0m\u001b[0;34m\u001b[0m\u001b[0m\n\u001b[1;32m    441\u001b[0m             \u001b[0;32melse\u001b[0m\u001b[0;34m:\u001b[0m\u001b[0;34m\u001b[0m\u001b[0;34m\u001b[0m\u001b[0m\n\u001b[0;32m--> 442\u001b[0;31m                 \u001b[0mapplied\u001b[0m \u001b[0;34m=\u001b[0m \u001b[0mgetattr\u001b[0m\u001b[0;34m(\u001b[0m\u001b[0mb\u001b[0m\u001b[0;34m,\u001b[0m \u001b[0mf\u001b[0m\u001b[0;34m)\u001b[0m\u001b[0;34m(\u001b[0m\u001b[0;34m**\u001b[0m\u001b[0mkwargs\u001b[0m\u001b[0;34m)\u001b[0m\u001b[0;34m\u001b[0m\u001b[0;34m\u001b[0m\u001b[0m\n\u001b[0m\u001b[1;32m    443\u001b[0m             \u001b[0mresult_blocks\u001b[0m \u001b[0;34m=\u001b[0m \u001b[0m_extend_blocks\u001b[0m\u001b[0;34m(\u001b[0m\u001b[0mapplied\u001b[0m\u001b[0;34m,\u001b[0m \u001b[0mresult_blocks\u001b[0m\u001b[0;34m)\u001b[0m\u001b[0;34m\u001b[0m\u001b[0;34m\u001b[0m\u001b[0m\n\u001b[1;32m    444\u001b[0m \u001b[0;34m\u001b[0m\u001b[0m\n",
            "\u001b[0;32m/usr/local/lib/python3.6/dist-packages/pandas/core/internals/blocks.py\u001b[0m in \u001b[0;36mastype\u001b[0;34m(self, dtype, copy, errors)\u001b[0m\n\u001b[1;32m    623\u001b[0m             \u001b[0mvals1d\u001b[0m \u001b[0;34m=\u001b[0m \u001b[0mvalues\u001b[0m\u001b[0;34m.\u001b[0m\u001b[0mravel\u001b[0m\u001b[0;34m(\u001b[0m\u001b[0;34m)\u001b[0m\u001b[0;34m\u001b[0m\u001b[0;34m\u001b[0m\u001b[0m\n\u001b[1;32m    624\u001b[0m             \u001b[0;32mtry\u001b[0m\u001b[0;34m:\u001b[0m\u001b[0;34m\u001b[0m\u001b[0;34m\u001b[0m\u001b[0m\n\u001b[0;32m--> 625\u001b[0;31m                 \u001b[0mvalues\u001b[0m \u001b[0;34m=\u001b[0m \u001b[0mastype_nansafe\u001b[0m\u001b[0;34m(\u001b[0m\u001b[0mvals1d\u001b[0m\u001b[0;34m,\u001b[0m \u001b[0mdtype\u001b[0m\u001b[0;34m,\u001b[0m \u001b[0mcopy\u001b[0m\u001b[0;34m=\u001b[0m\u001b[0;32mTrue\u001b[0m\u001b[0;34m)\u001b[0m\u001b[0;34m\u001b[0m\u001b[0;34m\u001b[0m\u001b[0m\n\u001b[0m\u001b[1;32m    626\u001b[0m             \u001b[0;32mexcept\u001b[0m \u001b[0;34m(\u001b[0m\u001b[0mValueError\u001b[0m\u001b[0;34m,\u001b[0m \u001b[0mTypeError\u001b[0m\u001b[0;34m)\u001b[0m\u001b[0;34m:\u001b[0m\u001b[0;34m\u001b[0m\u001b[0;34m\u001b[0m\u001b[0m\n\u001b[1;32m    627\u001b[0m                 \u001b[0;31m# e.g. astype_nansafe can fail on object-dtype of strings\u001b[0m\u001b[0;34m\u001b[0m\u001b[0;34m\u001b[0m\u001b[0;34m\u001b[0m\u001b[0m\n",
            "\u001b[0;32m/usr/local/lib/python3.6/dist-packages/pandas/core/dtypes/cast.py\u001b[0m in \u001b[0;36mastype_nansafe\u001b[0;34m(arr, dtype, copy, skipna)\u001b[0m\n\u001b[1;32m    895\u001b[0m     \u001b[0;32mif\u001b[0m \u001b[0mcopy\u001b[0m \u001b[0;32mor\u001b[0m \u001b[0mis_object_dtype\u001b[0m\u001b[0;34m(\u001b[0m\u001b[0marr\u001b[0m\u001b[0;34m)\u001b[0m \u001b[0;32mor\u001b[0m \u001b[0mis_object_dtype\u001b[0m\u001b[0;34m(\u001b[0m\u001b[0mdtype\u001b[0m\u001b[0;34m)\u001b[0m\u001b[0;34m:\u001b[0m\u001b[0;34m\u001b[0m\u001b[0;34m\u001b[0m\u001b[0m\n\u001b[1;32m    896\u001b[0m         \u001b[0;31m# Explicit copy, or required since NumPy can't view from / to object.\u001b[0m\u001b[0;34m\u001b[0m\u001b[0;34m\u001b[0m\u001b[0;34m\u001b[0m\u001b[0m\n\u001b[0;32m--> 897\u001b[0;31m         \u001b[0;32mreturn\u001b[0m \u001b[0marr\u001b[0m\u001b[0;34m.\u001b[0m\u001b[0mastype\u001b[0m\u001b[0;34m(\u001b[0m\u001b[0mdtype\u001b[0m\u001b[0;34m,\u001b[0m \u001b[0mcopy\u001b[0m\u001b[0;34m=\u001b[0m\u001b[0;32mTrue\u001b[0m\u001b[0;34m)\u001b[0m\u001b[0;34m\u001b[0m\u001b[0;34m\u001b[0m\u001b[0m\n\u001b[0m\u001b[1;32m    898\u001b[0m \u001b[0;34m\u001b[0m\u001b[0m\n\u001b[1;32m    899\u001b[0m     \u001b[0;32mreturn\u001b[0m \u001b[0marr\u001b[0m\u001b[0;34m.\u001b[0m\u001b[0mview\u001b[0m\u001b[0;34m(\u001b[0m\u001b[0mdtype\u001b[0m\u001b[0;34m)\u001b[0m\u001b[0;34m\u001b[0m\u001b[0;34m\u001b[0m\u001b[0m\n",
            "\u001b[0;31mValueError\u001b[0m: could not convert string to float: 'Hawaii'"
          ]
        }
      ]
    },
    {
      "cell_type": "code",
      "metadata": {
        "id": "vtLQv0l94BE4",
        "colab_type": "code",
        "colab": {}
      },
      "source": [
        "scores = model.evaluate(X_test, y_test, verbose=0)\n",
        "print(\"Baseline Error: %.2f%%\" % (100-scores[1]*100))"
      ],
      "execution_count": null,
      "outputs": []
    }
  ]
}