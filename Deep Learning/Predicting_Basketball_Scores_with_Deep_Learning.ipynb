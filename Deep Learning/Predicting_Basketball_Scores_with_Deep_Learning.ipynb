{
  "nbformat": 4,
  "nbformat_minor": 0,
  "metadata": {
    "colab": {
      "name": "Predicting Basketball Scores with Deep Learning",
      "provenance": [],
      "authorship_tag": "ABX9TyNym3B4f2o4An3JGEF/4Fub",
      "include_colab_link": true
    },
    "kernelspec": {
      "name": "python3",
      "display_name": "Python 3"
    }
  },
  "cells": [
    {
      "cell_type": "markdown",
      "metadata": {
        "id": "view-in-github",
        "colab_type": "text"
      },
      "source": [
        "<a href=\"https://colab.research.google.com/github/Zburns31/Code/blob/master/Deep%20Learning/Predicting_Basketball_Scores_with_Deep_Learning.ipynb\" target=\"_parent\"><img src=\"https://colab.research.google.com/assets/colab-badge.svg\" alt=\"Open In Colab\"/></a>"
      ]
    },
    {
      "cell_type": "code",
      "metadata": {
        "id": "eL5sJgdtE-Ii",
        "colab_type": "code",
        "colab": {
          "base_uri": "https://localhost:8080/",
          "height": 34
        },
        "outputId": "e8235bca-a9c3-477a-c5d0-a605ffb3a4e1"
      },
      "source": [
        "!python --version"
      ],
      "execution_count": null,
      "outputs": [
        {
          "output_type": "stream",
          "text": [
            "Python 3.6.9\n"
          ],
          "name": "stdout"
        }
      ]
    },
    {
      "cell_type": "code",
      "metadata": {
        "id": "ugFDcJtxFjjW",
        "colab_type": "code",
        "colab": {}
      },
      "source": [
        "import pandas as pd\n",
        "import numpy as np\n",
        "import tensorflow as tf\n",
        "import matplotlib.pyplot as plt\n",
        "\n",
        "import logging\n",
        "logger = tf.get_logger()\n",
        "logger.setLevel(logging.ERROR)"
      ],
      "execution_count": 1,
      "outputs": []
    },
    {
      "cell_type": "code",
      "metadata": {
        "id": "O0_aPWEsGRiR",
        "colab_type": "code",
        "colab": {
          "base_uri": "https://localhost:8080/",
          "height": 69
        },
        "outputId": "6f4bd8dd-0b38-473f-884f-270d5752fc63"
      },
      "source": [
        "print(pd.__version__)\n",
        "print(np.__version__)\n",
        "print(tf.__version__)"
      ],
      "execution_count": 2,
      "outputs": [
        {
          "output_type": "stream",
          "text": [
            "1.0.5\n",
            "1.18.5\n",
            "2.2.0\n"
          ],
          "name": "stdout"
        }
      ]
    },
    {
      "cell_type": "code",
      "metadata": {
        "id": "cJzqwoIscUM6",
        "colab_type": "code",
        "colab": {}
      },
      "source": [
        "celsius = np.array([np.random.randint(-40,40) for n in range(21)], dtype=float)\n",
        "fahrenheit = np.array([round(c * 1.8 + 32,2) for c in celsius], dtype=float)"
      ],
      "execution_count": 15,
      "outputs": []
    },
    {
      "cell_type": "code",
      "metadata": {
        "id": "Tt6BxDNhGUGy",
        "colab_type": "code",
        "colab": {}
      },
      "source": [
        "model = tf.keras.Sequential()\n",
        "\n",
        "model.add(tf.keras.layers.Dense(units=1, input_shape=(1,)))"
      ],
      "execution_count": 14,
      "outputs": []
    },
    {
      "cell_type": "code",
      "metadata": {
        "id": "5F2jsgmBbsfb",
        "colab_type": "code",
        "colab": {}
      },
      "source": [
        "model.compile(loss='mean_squared_error',\n",
        "              optimizer=tf.keras.optimizers.Adam(0.1))\n"
      ],
      "execution_count": 31,
      "outputs": []
    },
    {
      "cell_type": "code",
      "metadata": {
        "id": "qvV5Sb0DcJfP",
        "colab_type": "code",
        "colab": {
          "base_uri": "https://localhost:8080/",
          "height": 1000
        },
        "outputId": "ffd400aa-bfd4-41cc-b2be-3a2da2345df0"
      },
      "source": [
        "model.fit(celsius, fahrenheit, batch_size=5, epochs=200)"
      ],
      "execution_count": 40,
      "outputs": [
        {
          "output_type": "stream",
          "text": [
            "Epoch 1/200\n",
            "5/5 [==============================] - 0s 2ms/step - loss: 1.5940\n",
            "Epoch 2/200\n",
            "5/5 [==============================] - 0s 2ms/step - loss: 1.5064\n",
            "Epoch 3/200\n",
            "5/5 [==============================] - 0s 2ms/step - loss: 1.3626\n",
            "Epoch 4/200\n",
            "5/5 [==============================] - 0s 2ms/step - loss: 1.2211\n",
            "Epoch 5/200\n",
            "5/5 [==============================] - 0s 2ms/step - loss: 1.1636\n",
            "Epoch 6/200\n",
            "5/5 [==============================] - 0s 1ms/step - loss: 1.0845\n",
            "Epoch 7/200\n",
            "5/5 [==============================] - 0s 2ms/step - loss: 1.0044\n",
            "Epoch 8/200\n",
            "5/5 [==============================] - 0s 2ms/step - loss: 0.8984\n",
            "Epoch 9/200\n",
            "5/5 [==============================] - 0s 2ms/step - loss: 0.8035\n",
            "Epoch 10/200\n",
            "5/5 [==============================] - 0s 2ms/step - loss: 0.7245\n",
            "Epoch 11/200\n",
            "5/5 [==============================] - 0s 1ms/step - loss: 0.6797\n",
            "Epoch 12/200\n",
            "5/5 [==============================] - 0s 1ms/step - loss: 0.6162\n",
            "Epoch 13/200\n",
            "5/5 [==============================] - 0s 2ms/step - loss: 0.5621\n",
            "Epoch 14/200\n",
            "5/5 [==============================] - 0s 1ms/step - loss: 0.4983\n",
            "Epoch 15/200\n",
            "5/5 [==============================] - 0s 1ms/step - loss: 0.4640\n",
            "Epoch 16/200\n",
            "5/5 [==============================] - 0s 2ms/step - loss: 0.4350\n",
            "Epoch 17/200\n",
            "5/5 [==============================] - 0s 1ms/step - loss: 0.4083\n",
            "Epoch 18/200\n",
            "5/5 [==============================] - 0s 1ms/step - loss: 0.3515\n",
            "Epoch 19/200\n",
            "5/5 [==============================] - 0s 2ms/step - loss: 0.3280\n",
            "Epoch 20/200\n",
            "5/5 [==============================] - 0s 2ms/step - loss: 0.3125\n",
            "Epoch 21/200\n",
            "5/5 [==============================] - 0s 2ms/step - loss: 0.2750\n",
            "Epoch 22/200\n",
            "5/5 [==============================] - 0s 1ms/step - loss: 0.2539\n",
            "Epoch 23/200\n",
            "5/5 [==============================] - 0s 2ms/step - loss: 0.2346\n",
            "Epoch 24/200\n",
            "5/5 [==============================] - 0s 2ms/step - loss: 0.2321\n",
            "Epoch 25/200\n",
            "5/5 [==============================] - 0s 1ms/step - loss: 0.1971\n",
            "Epoch 26/200\n",
            "5/5 [==============================] - 0s 2ms/step - loss: 0.1887\n",
            "Epoch 27/200\n",
            "5/5 [==============================] - 0s 2ms/step - loss: 0.1802\n",
            "Epoch 28/200\n",
            "5/5 [==============================] - 0s 1ms/step - loss: 0.1435\n",
            "Epoch 29/200\n",
            "5/5 [==============================] - 0s 2ms/step - loss: 0.1409\n",
            "Epoch 30/200\n",
            "5/5 [==============================] - 0s 2ms/step - loss: 0.1323\n",
            "Epoch 31/200\n",
            "5/5 [==============================] - 0s 2ms/step - loss: 0.1073\n",
            "Epoch 32/200\n",
            "5/5 [==============================] - 0s 2ms/step - loss: 0.1009\n",
            "Epoch 33/200\n",
            "5/5 [==============================] - 0s 2ms/step - loss: 0.0933\n",
            "Epoch 34/200\n",
            "5/5 [==============================] - 0s 2ms/step - loss: 0.0794\n",
            "Epoch 35/200\n",
            "5/5 [==============================] - 0s 2ms/step - loss: 0.0922\n",
            "Epoch 36/200\n",
            "5/5 [==============================] - 0s 2ms/step - loss: 0.0733\n",
            "Epoch 37/200\n",
            "5/5 [==============================] - 0s 2ms/step - loss: 0.0657\n",
            "Epoch 38/200\n",
            "5/5 [==============================] - 0s 2ms/step - loss: 0.0614\n",
            "Epoch 39/200\n",
            "5/5 [==============================] - 0s 1ms/step - loss: 0.0516\n",
            "Epoch 40/200\n",
            "5/5 [==============================] - 0s 1ms/step - loss: 0.0434\n",
            "Epoch 41/200\n",
            "5/5 [==============================] - 0s 2ms/step - loss: 0.0416\n",
            "Epoch 42/200\n",
            "5/5 [==============================] - 0s 1ms/step - loss: 0.0363\n",
            "Epoch 43/200\n",
            "5/5 [==============================] - 0s 2ms/step - loss: 0.0312\n",
            "Epoch 44/200\n",
            "5/5 [==============================] - 0s 2ms/step - loss: 0.0297\n",
            "Epoch 45/200\n",
            "5/5 [==============================] - 0s 1ms/step - loss: 0.0256\n",
            "Epoch 46/200\n",
            "5/5 [==============================] - 0s 2ms/step - loss: 0.0229\n",
            "Epoch 47/200\n",
            "5/5 [==============================] - 0s 1ms/step - loss: 0.0210\n",
            "Epoch 48/200\n",
            "5/5 [==============================] - 0s 2ms/step - loss: 0.0191\n",
            "Epoch 49/200\n",
            "5/5 [==============================] - 0s 2ms/step - loss: 0.0175\n",
            "Epoch 50/200\n",
            "5/5 [==============================] - 0s 2ms/step - loss: 0.0157\n",
            "Epoch 51/200\n",
            "5/5 [==============================] - 0s 2ms/step - loss: 0.0165\n",
            "Epoch 52/200\n",
            "5/5 [==============================] - 0s 2ms/step - loss: 0.0134\n",
            "Epoch 53/200\n",
            "5/5 [==============================] - 0s 2ms/step - loss: 0.0127\n",
            "Epoch 54/200\n",
            "5/5 [==============================] - 0s 2ms/step - loss: 0.0107\n",
            "Epoch 55/200\n",
            "5/5 [==============================] - 0s 1ms/step - loss: 0.0081\n",
            "Epoch 56/200\n",
            "5/5 [==============================] - 0s 2ms/step - loss: 0.0100\n",
            "Epoch 57/200\n",
            "5/5 [==============================] - 0s 2ms/step - loss: 0.0083\n",
            "Epoch 58/200\n",
            "5/5 [==============================] - 0s 2ms/step - loss: 0.0064\n",
            "Epoch 59/200\n",
            "5/5 [==============================] - 0s 1ms/step - loss: 0.0051\n",
            "Epoch 60/200\n",
            "5/5 [==============================] - 0s 2ms/step - loss: 0.0050\n",
            "Epoch 61/200\n",
            "5/5 [==============================] - 0s 2ms/step - loss: 0.0041\n",
            "Epoch 62/200\n",
            "5/5 [==============================] - 0s 2ms/step - loss: 0.0036\n",
            "Epoch 63/200\n",
            "5/5 [==============================] - 0s 2ms/step - loss: 0.0032\n",
            "Epoch 64/200\n",
            "5/5 [==============================] - 0s 2ms/step - loss: 0.0030\n",
            "Epoch 65/200\n",
            "5/5 [==============================] - 0s 2ms/step - loss: 0.0027\n",
            "Epoch 66/200\n",
            "5/5 [==============================] - 0s 2ms/step - loss: 0.0024\n",
            "Epoch 67/200\n",
            "5/5 [==============================] - 0s 2ms/step - loss: 0.0021\n",
            "Epoch 68/200\n",
            "5/5 [==============================] - 0s 2ms/step - loss: 0.0020\n",
            "Epoch 69/200\n",
            "5/5 [==============================] - 0s 2ms/step - loss: 0.0017\n",
            "Epoch 70/200\n",
            "5/5 [==============================] - 0s 2ms/step - loss: 0.0016\n",
            "Epoch 71/200\n",
            "5/5 [==============================] - 0s 2ms/step - loss: 0.0014\n",
            "Epoch 72/200\n",
            "5/5 [==============================] - 0s 2ms/step - loss: 0.0014\n",
            "Epoch 73/200\n",
            "5/5 [==============================] - 0s 2ms/step - loss: 0.0012\n",
            "Epoch 74/200\n",
            "5/5 [==============================] - 0s 2ms/step - loss: 9.6166e-04\n",
            "Epoch 75/200\n",
            "5/5 [==============================] - 0s 3ms/step - loss: 8.6676e-04\n",
            "Epoch 76/200\n",
            "5/5 [==============================] - 0s 2ms/step - loss: 7.0280e-04\n",
            "Epoch 77/200\n",
            "5/5 [==============================] - 0s 1ms/step - loss: 6.1295e-04\n",
            "Epoch 78/200\n",
            "5/5 [==============================] - 0s 2ms/step - loss: 5.6081e-04\n",
            "Epoch 79/200\n",
            "5/5 [==============================] - 0s 2ms/step - loss: 4.8274e-04\n",
            "Epoch 80/200\n",
            "5/5 [==============================] - 0s 2ms/step - loss: 4.2510e-04\n",
            "Epoch 81/200\n",
            "5/5 [==============================] - 0s 2ms/step - loss: 3.9755e-04\n",
            "Epoch 82/200\n",
            "5/5 [==============================] - 0s 2ms/step - loss: 3.4351e-04\n",
            "Epoch 83/200\n",
            "5/5 [==============================] - 0s 2ms/step - loss: 2.8970e-04\n",
            "Epoch 84/200\n",
            "5/5 [==============================] - 0s 2ms/step - loss: 2.6736e-04\n",
            "Epoch 85/200\n",
            "5/5 [==============================] - 0s 2ms/step - loss: 2.4238e-04\n",
            "Epoch 86/200\n",
            "5/5 [==============================] - 0s 2ms/step - loss: 2.1817e-04\n",
            "Epoch 87/200\n",
            "5/5 [==============================] - 0s 1ms/step - loss: 1.8484e-04\n",
            "Epoch 88/200\n",
            "5/5 [==============================] - 0s 2ms/step - loss: 1.6005e-04\n",
            "Epoch 89/200\n",
            "5/5 [==============================] - 0s 2ms/step - loss: 1.4792e-04\n",
            "Epoch 90/200\n",
            "5/5 [==============================] - 0s 2ms/step - loss: 1.3184e-04\n",
            "Epoch 91/200\n",
            "5/5 [==============================] - 0s 2ms/step - loss: 1.1335e-04\n",
            "Epoch 92/200\n",
            "5/5 [==============================] - 0s 2ms/step - loss: 1.1177e-04\n",
            "Epoch 93/200\n",
            "5/5 [==============================] - 0s 2ms/step - loss: 9.5722e-05\n",
            "Epoch 94/200\n",
            "5/5 [==============================] - 0s 2ms/step - loss: 7.2381e-05\n",
            "Epoch 95/200\n",
            "5/5 [==============================] - 0s 2ms/step - loss: 6.7832e-05\n",
            "Epoch 96/200\n",
            "5/5 [==============================] - 0s 2ms/step - loss: 5.7307e-05\n",
            "Epoch 97/200\n",
            "5/5 [==============================] - 0s 2ms/step - loss: 4.9594e-05\n",
            "Epoch 98/200\n",
            "5/5 [==============================] - 0s 2ms/step - loss: 4.3945e-05\n",
            "Epoch 99/200\n",
            "5/5 [==============================] - 0s 2ms/step - loss: 3.8706e-05\n",
            "Epoch 100/200\n",
            "5/5 [==============================] - 0s 2ms/step - loss: 3.4327e-05\n",
            "Epoch 101/200\n",
            "5/5 [==============================] - 0s 2ms/step - loss: 3.0242e-05\n",
            "Epoch 102/200\n",
            "5/5 [==============================] - 0s 2ms/step - loss: 2.7956e-05\n",
            "Epoch 103/200\n",
            "5/5 [==============================] - 0s 2ms/step - loss: 2.7920e-05\n",
            "Epoch 104/200\n",
            "5/5 [==============================] - 0s 2ms/step - loss: 2.1261e-05\n",
            "Epoch 105/200\n",
            "5/5 [==============================] - 0s 2ms/step - loss: 1.6290e-05\n",
            "Epoch 106/200\n",
            "5/5 [==============================] - 0s 2ms/step - loss: 1.3860e-05\n",
            "Epoch 107/200\n",
            "5/5 [==============================] - 0s 2ms/step - loss: 1.1883e-05\n",
            "Epoch 108/200\n",
            "5/5 [==============================] - 0s 2ms/step - loss: 1.0171e-05\n",
            "Epoch 109/200\n",
            "5/5 [==============================] - 0s 3ms/step - loss: 8.4016e-06\n",
            "Epoch 110/200\n",
            "5/5 [==============================] - 0s 2ms/step - loss: 7.6868e-06\n",
            "Epoch 111/200\n",
            "5/5 [==============================] - 0s 2ms/step - loss: 5.9658e-06\n",
            "Epoch 112/200\n",
            "5/5 [==============================] - 0s 2ms/step - loss: 5.7072e-06\n",
            "Epoch 113/200\n",
            "5/5 [==============================] - 0s 2ms/step - loss: 4.2019e-06\n",
            "Epoch 114/200\n",
            "5/5 [==============================] - 0s 2ms/step - loss: 4.1536e-06\n",
            "Epoch 115/200\n",
            "5/5 [==============================] - 0s 2ms/step - loss: 3.2243e-06\n",
            "Epoch 116/200\n",
            "5/5 [==============================] - 0s 2ms/step - loss: 3.1260e-06\n",
            "Epoch 117/200\n",
            "5/5 [==============================] - 0s 2ms/step - loss: 2.1583e-06\n",
            "Epoch 118/200\n",
            "5/5 [==============================] - 0s 2ms/step - loss: 2.6955e-06\n",
            "Epoch 119/200\n",
            "5/5 [==============================] - 0s 2ms/step - loss: 1.9482e-06\n",
            "Epoch 120/200\n",
            "5/5 [==============================] - 0s 2ms/step - loss: 1.5840e-06\n",
            "Epoch 121/200\n",
            "5/5 [==============================] - 0s 2ms/step - loss: 1.8426e-06\n",
            "Epoch 122/200\n",
            "5/5 [==============================] - 0s 2ms/step - loss: 1.0289e-06\n",
            "Epoch 123/200\n",
            "5/5 [==============================] - 0s 2ms/step - loss: 1.2426e-06\n",
            "Epoch 124/200\n",
            "5/5 [==============================] - 0s 2ms/step - loss: 9.0709e-07\n",
            "Epoch 125/200\n",
            "5/5 [==============================] - 0s 2ms/step - loss: 9.4051e-07\n",
            "Epoch 126/200\n",
            "5/5 [==============================] - 0s 2ms/step - loss: 6.7978e-07\n",
            "Epoch 127/200\n",
            "5/5 [==============================] - 0s 2ms/step - loss: 5.4693e-07\n",
            "Epoch 128/200\n",
            "5/5 [==============================] - 0s 2ms/step - loss: 4.9377e-07\n",
            "Epoch 129/200\n",
            "5/5 [==============================] - 0s 2ms/step - loss: 4.3423e-07\n",
            "Epoch 130/200\n",
            "5/5 [==============================] - 0s 2ms/step - loss: 3.7519e-07\n",
            "Epoch 131/200\n",
            "5/5 [==============================] - 0s 2ms/step - loss: 3.3342e-07\n",
            "Epoch 132/200\n",
            "5/5 [==============================] - 0s 2ms/step - loss: 2.5846e-07\n",
            "Epoch 133/200\n",
            "5/5 [==============================] - 0s 3ms/step - loss: 2.2667e-07\n",
            "Epoch 134/200\n",
            "5/5 [==============================] - 0s 2ms/step - loss: 1.9102e-07\n",
            "Epoch 135/200\n",
            "5/5 [==============================] - 0s 2ms/step - loss: 1.5681e-07\n",
            "Epoch 136/200\n",
            "5/5 [==============================] - 0s 2ms/step - loss: 1.3954e-07\n",
            "Epoch 137/200\n",
            "5/5 [==============================] - 0s 2ms/step - loss: 1.3258e-07\n",
            "Epoch 138/200\n",
            "5/5 [==============================] - 0s 2ms/step - loss: 1.1976e-07\n",
            "Epoch 139/200\n",
            "5/5 [==============================] - 0s 2ms/step - loss: 8.0899e-08\n",
            "Epoch 140/200\n",
            "5/5 [==============================] - 0s 2ms/step - loss: 6.9690e-08\n",
            "Epoch 141/200\n",
            "5/5 [==============================] - 0s 2ms/step - loss: 6.2996e-08\n",
            "Epoch 142/200\n",
            "5/5 [==============================] - 0s 2ms/step - loss: 5.4614e-08\n",
            "Epoch 143/200\n",
            "5/5 [==============================] - 0s 2ms/step - loss: 5.3314e-08\n",
            "Epoch 144/200\n",
            "5/5 [==============================] - 0s 1ms/step - loss: 4.0876e-08\n",
            "Epoch 145/200\n",
            "5/5 [==============================] - 0s 2ms/step - loss: 3.9463e-08\n",
            "Epoch 146/200\n",
            "5/5 [==============================] - 0s 2ms/step - loss: 2.9036e-08\n",
            "Epoch 147/200\n",
            "5/5 [==============================] - 0s 2ms/step - loss: 2.6611e-08\n",
            "Epoch 148/200\n",
            "5/5 [==============================] - 0s 2ms/step - loss: 2.4070e-08\n",
            "Epoch 149/200\n",
            "5/5 [==============================] - 0s 2ms/step - loss: 1.8587e-08\n",
            "Epoch 150/200\n",
            "5/5 [==============================] - 0s 2ms/step - loss: 1.7147e-08\n",
            "Epoch 151/200\n",
            "5/5 [==============================] - 0s 2ms/step - loss: 1.4189e-08\n",
            "Epoch 152/200\n",
            "5/5 [==============================] - 0s 2ms/step - loss: 1.1853e-08\n",
            "Epoch 153/200\n",
            "5/5 [==============================] - 0s 2ms/step - loss: 1.0351e-08\n",
            "Epoch 154/200\n",
            "5/5 [==============================] - 0s 2ms/step - loss: 8.8702e-09\n",
            "Epoch 155/200\n",
            "5/5 [==============================] - 0s 2ms/step - loss: 6.9434e-09\n",
            "Epoch 156/200\n",
            "5/5 [==============================] - 0s 1ms/step - loss: 6.4947e-09\n",
            "Epoch 157/200\n",
            "5/5 [==============================] - 0s 2ms/step - loss: 5.3053e-09\n",
            "Epoch 158/200\n",
            "5/5 [==============================] - 0s 2ms/step - loss: 4.1585e-09\n",
            "Epoch 159/200\n",
            "5/5 [==============================] - 0s 2ms/step - loss: 2.7624e-09\n",
            "Epoch 160/200\n",
            "5/5 [==============================] - 0s 1ms/step - loss: 2.2953e-09\n",
            "Epoch 161/200\n",
            "5/5 [==============================] - 0s 2ms/step - loss: 1.7133e-09\n",
            "Epoch 162/200\n",
            "5/5 [==============================] - 0s 2ms/step - loss: 2.3612e-09\n",
            "Epoch 163/200\n",
            "5/5 [==============================] - 0s 2ms/step - loss: 1.1816e-09\n",
            "Epoch 164/200\n",
            "5/5 [==============================] - 0s 2ms/step - loss: 1.5409e-09\n",
            "Epoch 165/200\n",
            "5/5 [==============================] - 0s 2ms/step - loss: 1.1376e-09\n",
            "Epoch 166/200\n",
            "5/5 [==============================] - 0s 2ms/step - loss: 1.5341e-09\n",
            "Epoch 167/200\n",
            "5/5 [==============================] - 0s 2ms/step - loss: 1.2516e-09\n",
            "Epoch 168/200\n",
            "5/5 [==============================] - 0s 2ms/step - loss: 1.4213e-09\n",
            "Epoch 169/200\n",
            "5/5 [==============================] - 0s 2ms/step - loss: 1.2404e-09\n",
            "Epoch 170/200\n",
            "5/5 [==============================] - 0s 1ms/step - loss: 1.2971e-09\n",
            "Epoch 171/200\n",
            "5/5 [==============================] - 0s 2ms/step - loss: 1.2313e-09\n",
            "Epoch 172/200\n",
            "5/5 [==============================] - 0s 2ms/step - loss: 1.1831e-09\n",
            "Epoch 173/200\n",
            "5/5 [==============================] - 0s 2ms/step - loss: 1.2677e-09\n",
            "Epoch 174/200\n",
            "5/5 [==============================] - 0s 2ms/step - loss: 1.2511e-09\n",
            "Epoch 175/200\n",
            "5/5 [==============================] - 0s 2ms/step - loss: 1.1662e-09\n",
            "Epoch 176/200\n",
            "5/5 [==============================] - 0s 1ms/step - loss: 1.1732e-09\n",
            "Epoch 177/200\n",
            "5/5 [==============================] - 0s 2ms/step - loss: 1.3469e-09\n",
            "Epoch 178/200\n",
            "5/5 [==============================] - 0s 2ms/step - loss: 1.3313e-09\n",
            "Epoch 179/200\n",
            "5/5 [==============================] - 0s 1ms/step - loss: 1.3295e-09\n",
            "Epoch 180/200\n",
            "5/5 [==============================] - 0s 2ms/step - loss: 1.3149e-09\n",
            "Epoch 181/200\n",
            "5/5 [==============================] - 0s 1ms/step - loss: 1.3370e-09\n",
            "Epoch 182/200\n",
            "5/5 [==============================] - 0s 2ms/step - loss: 1.2968e-09\n",
            "Epoch 183/200\n",
            "5/5 [==============================] - 0s 1ms/step - loss: 1.3734e-09\n",
            "Epoch 184/200\n",
            "5/5 [==============================] - 0s 2ms/step - loss: 1.2428e-09\n",
            "Epoch 185/200\n",
            "5/5 [==============================] - 0s 2ms/step - loss: 1.2501e-09\n",
            "Epoch 186/200\n",
            "5/5 [==============================] - 0s 2ms/step - loss: 1.3120e-09\n",
            "Epoch 187/200\n",
            "5/5 [==============================] - 0s 2ms/step - loss: 1.2684e-09\n",
            "Epoch 188/200\n",
            "5/5 [==============================] - 0s 2ms/step - loss: 1.1732e-09\n",
            "Epoch 189/200\n",
            "5/5 [==============================] - 0s 2ms/step - loss: 1.3875e-09\n",
            "Epoch 190/200\n",
            "5/5 [==============================] - 0s 2ms/step - loss: 1.1108e-09\n",
            "Epoch 191/200\n",
            "5/5 [==============================] - 0s 2ms/step - loss: 1.3295e-09\n",
            "Epoch 192/200\n",
            "5/5 [==============================] - 0s 2ms/step - loss: 1.1472e-09\n",
            "Epoch 193/200\n",
            "5/5 [==============================] - 0s 2ms/step - loss: 1.2822e-09\n",
            "Epoch 194/200\n",
            "5/5 [==============================] - 0s 2ms/step - loss: 1.1823e-09\n",
            "Epoch 195/200\n",
            "5/5 [==============================] - 0s 2ms/step - loss: 1.3218e-09\n",
            "Epoch 196/200\n",
            "5/5 [==============================] - 0s 2ms/step - loss: 1.1865e-09\n",
            "Epoch 197/200\n",
            "5/5 [==============================] - 0s 2ms/step - loss: 1.2307e-09\n",
            "Epoch 198/200\n",
            "5/5 [==============================] - 0s 2ms/step - loss: 1.1815e-09\n",
            "Epoch 199/200\n",
            "5/5 [==============================] - 0s 2ms/step - loss: 1.1865e-09\n",
            "Epoch 200/200\n",
            "5/5 [==============================] - 0s 2ms/step - loss: 1.2328e-09\n"
          ],
          "name": "stdout"
        },
        {
          "output_type": "execute_result",
          "data": {
            "text/plain": [
              "<tensorflow.python.keras.callbacks.History at 0x7fc424ee0780>"
            ]
          },
          "metadata": {
            "tags": []
          },
          "execution_count": 40
        }
      ]
    },
    {
      "cell_type": "code",
      "metadata": {
        "id": "h1PceeBEeNhf",
        "colab_type": "code",
        "colab": {
          "base_uri": "https://localhost:8080/",
          "height": 296
        },
        "outputId": "3df64dee-8079-4f1e-aff6-e9d63d6595d4"
      },
      "source": [
        "plt.xlabel('Epoch Number')\n",
        "plt.ylabel(\"Loss Magnitude\")\n",
        "plt.plot(model.history.history['loss'])"
      ],
      "execution_count": 41,
      "outputs": [
        {
          "output_type": "execute_result",
          "data": {
            "text/plain": [
              "[<matplotlib.lines.Line2D at 0x7fc424f00d30>]"
            ]
          },
          "metadata": {
            "tags": []
          },
          "execution_count": 41
        },
        {
          "output_type": "display_data",
          "data": {
            "image/png": "[encoded data removed]",
            "text/plain": [
              "<Figure size 432x288 with 1 Axes>"
            ]
          },
          "metadata": {
            "tags": [],
            "needs_background": "light"
          }
        }
      ]
    },
    {
      "cell_type": "code",
      "metadata": {
        "id": "MH5a8RQHxjoK",
        "colab_type": "code",
        "colab": {
          "base_uri": "https://localhost:8080/",
          "height": 34
        },
        "outputId": "bde489b0-f610-40d1-bc47-0c44813072f8"
      },
      "source": [
        "model.predict([100])"
      ],
      "execution_count": 42,
      "outputs": [
        {
          "output_type": "execute_result",
          "data": {
            "text/plain": [
              "array([[211.99997]], dtype=float32)"
            ]
          },
          "metadata": {
            "tags": []
          },
          "execution_count": 42
        }
      ]
    },
    {
      "cell_type": "code",
      "metadata": {
        "id": "9CY1XWwmzAH0",
        "colab_type": "code",
        "colab": {
          "base_uri": "https://localhost:8080/",
          "height": 52
        },
        "outputId": "1635d138-dc79-49ac-b446-9951895d54c7"
      },
      "source": [
        "print(len(model.weights))\n",
        "print(model.get_weights())"
      ],
      "execution_count": 43,
      "outputs": [
        {
          "output_type": "stream",
          "text": [
            "2\n",
            "[array([[1.8000002]], dtype=float32), array([31.99996], dtype=float32)]\n"
          ],
          "name": "stdout"
        }
      ]
    },
    {
      "cell_type": "code",
      "metadata": {
        "id": "Iv3_YkeNyfyq",
        "colab_type": "code",
        "colab": {
          "base_uri": "https://localhost:8080/",
          "height": 174
        },
        "outputId": "973e4370-7478-4f22-9243-e16e5eb00d02"
      },
      "source": [
        "tf.keras.utils.plot_model(\n",
        "    model,\n",
        "    to_file=\"model.png\",\n",
        "    show_shapes=False,\n",
        "    show_layer_names=True,\n",
        "    rankdir=\"TB\",\n",
        "    expand_nested=False,\n",
        "    dpi=96,\n",
        ")"
      ],
      "execution_count": 46,
      "outputs": [
        {
          "output_type": "execute_result",
          "data": {
            "image/png": "[encoded data removed]",
            "text/plain": [
              "<IPython.core.display.Image object>"
            ]
          },
          "metadata": {
            "tags": []
          },
          "execution_count": 46
        }
      ]
    },
    {
      "cell_type": "code",
      "metadata": {
        "id": "0mcczoJozRDK",
        "colab_type": "code",
        "colab": {
          "base_uri": "https://localhost:8080/",
          "height": 52
        },
        "outputId": "0dc1a612-4b02-4721-d9a6-2963220dc785"
      },
      "source": [
        "from tensorflow.keras.datasets import boston_housing\n",
        "(train_data, train_targets), (test_data, test_targets) = boston_housing.load_data()"
      ],
      "execution_count": 47,
      "outputs": [
        {
          "output_type": "stream",
          "text": [
            "Downloading data from https://storage.googleapis.com/tensorflow/tf-keras-datasets/boston_housing.npz\n",
            "57344/57026 [==============================] - 0s 0us/step\n"
          ],
          "name": "stdout"
        }
      ]
    },
    {
      "cell_type": "code",
      "metadata": {
        "id": "LvVhIsaT2CoM",
        "colab_type": "code",
        "colab": {
          "base_uri": "https://localhost:8080/",
          "height": 34
        },
        "outputId": "558311e5-8069-462e-af5f-82cd67337628"
      },
      "source": [
        ">>> train_data.shape\n",
        "(404, 13)\n",
        ">>> test_data.shape\n",
        "(102, 13)"
      ],
      "execution_count": 48,
      "outputs": [
        {
          "output_type": "execute_result",
          "data": {
            "text/plain": [
              "(102, 13)"
            ]
          },
          "metadata": {
            "tags": []
          },
          "execution_count": 48
        }
      ]
    },
    {
      "cell_type": "code",
      "metadata": {
        "id": "Xi9jjLZO3Ar6",
        "colab_type": "code",
        "colab": {
          "base_uri": "https://localhost:8080/",
          "height": 34
        },
        "outputId": "5908ecbf-050c-4cbc-bfae-5ce30f825f3f"
      },
      "source": [
        ">>> train_data.shape\n",
        "(404, 13)\n",
        ">>> test_data.shape\n",
        "(102, 13)"
      ],
      "execution_count": 52,
      "outputs": [
        {
          "output_type": "execute_result",
          "data": {
            "text/plain": [
              "(102, 13)"
            ]
          },
          "metadata": {
            "tags": []
          },
          "execution_count": 52
        }
      ]
    },
    {
      "cell_type": "code",
      "metadata": {
        "id": "-8DreU4c3DcS",
        "colab_type": "code",
        "colab": {
          "base_uri": "https://localhost:8080/",
          "height": 243
        },
        "outputId": "a64b9bf1-2b53-455d-e5b3-f7c2707bf02a"
      },
      "source": [
        "train_data"
      ],
      "execution_count": 54,
      "outputs": [
        {
          "output_type": "execute_result",
          "data": {
            "text/plain": [
              "array([[1.23247e+00, 0.00000e+00, 8.14000e+00, ..., 2.10000e+01,\n",
              "        3.96900e+02, 1.87200e+01],\n",
              "       [2.17700e-02, 8.25000e+01, 2.03000e+00, ..., 1.47000e+01,\n",
              "        3.95380e+02, 3.11000e+00],\n",
              "       [4.89822e+00, 0.00000e+00, 1.81000e+01, ..., 2.02000e+01,\n",
              "        3.75520e+02, 3.26000e+00],\n",
              "       ...,\n",
              "       [3.46600e-02, 3.50000e+01, 6.06000e+00, ..., 1.69000e+01,\n",
              "        3.62250e+02, 7.83000e+00],\n",
              "       [2.14918e+00, 0.00000e+00, 1.95800e+01, ..., 1.47000e+01,\n",
              "        2.61950e+02, 1.57900e+01],\n",
              "       [1.43900e-02, 6.00000e+01, 2.93000e+00, ..., 1.56000e+01,\n",
              "        3.76700e+02, 4.38000e+00]])"
            ]
          },
          "metadata": {
            "tags": []
          },
          "execution_count": 54
        }
      ]
    },
    {
      "cell_type": "code",
      "metadata": {
        "id": "42vxyGtj4Zh5",
        "colab_type": "code",
        "colab": {}
      },
      "source": [
        ""
      ],
      "execution_count": null,
      "outputs": []
    }
  ]
}